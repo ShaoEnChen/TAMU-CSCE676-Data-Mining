{
 "cells": [
  {
   "cell_type": "markdown",
   "metadata": {},
   "source": [
    "## CSCE 676 :: Data Mining and Analysis :: Texas A&M University :: Fall 2019\n",
    "\n",
    "\n",
    "# Homework 1\n",
    "\n",
    "- **100 points [6% of your final grade]**\n",
    "- **Due Wednesday, September 18 by 11:59pm**\n",
    "\n",
    "*Goals of this homework:* There are two objectives of this homework: i) collect data from the web, clean it, and then make some observations based on exploratory data analysis; and ii) understand and implement the classic apriori algorithm to find the association rules in a movie rating dataset.\n",
    "\n",
    "*Submission instructions:* You should post your notebook to ecampus (look for the homework 1 assignment there). Please name your submission **your-uin_hw1.ipynb**, so for example, my submission would be something like **555001234_hw1.ipynb**. Your notebook should be fully executed when you submit ... so run all the cells for us so we can see the output, then submit that. "
   ]
  },
  {
   "cell_type": "markdown",
   "metadata": {},
   "source": [
    "## (10 points) Part 1a: UFOs are Out There, But First I Need to Store them Locally\n",
    "\n",
    "For this first part, we're going to collect evidence of UFO sightings from the **National UFO Reporting Center**. Specifically, we're going to focus only on UFO sightings in Texas, as reported at this webpage:\n",
    "\n",
    "* http://www.nuforc.org/webreports/ndxlTX.html\n",
    "\n",
    "Recall that you can view the source of a webpage in Chrome under View &rarr; Developer &rarr; View Source. You'll notice, however, that this raw HTML is not in our friendly csv format and so will require some initial pre-processing. In particular, we're going to use the Python libraries **[requests](http://docs.python-requests.org/en/master/)** and **[beautiful soup](https://www.crummy.com/software/BeautifulSoup/)** to convert this UFO data from its original HTML format into csv. \n",
    "\n",
    "Hints:\n",
    "* You'll notice that the column headers are in the `<TH>` tags.\n",
    "* The values are in the `<TD>` tags.\n",
    "* In beautiful soup, something like `.find_all('td')` may help you.\n",
    "* To write the csv, you might want to `import csv` and take a look at the functions provided.\n",
    "* If you google for \"beautifulsoup table to csv\" you should find some nice starting points.  Note, however, that you may not use an existing method that auto-magically converts the HTML into csv; we expect you to write your own code. If you borrow some elements from online resources, you should cite them in the comments. "
   ]
  },
  {
   "cell_type": "code",
   "execution_count": 1,
   "metadata": {},
   "outputs": [],
   "source": [
    "import numpy as np\n",
    "import requests\n",
    "from bs4 import BeautifulSoup\n",
    "import csv\n",
    "import pandas as pd\n",
    "import re\n",
    "import matplotlib.pyplot as plt\n",
    "import seaborn\n",
    "\n",
    "ufo_data_source = \"http://www.nuforc.org/webreports/ndxlTX.html\"\n",
    "ufo_data_filename = 'ufo_texas.csv'"
   ]
  },
  {
   "cell_type": "code",
   "execution_count": 2,
   "metadata": {},
   "outputs": [],
   "source": [
    "# your code here\n",
    "# you should use requests to get the webpage, then extract \n",
    "# the appropriate column headings and rows\n",
    "# then write this out to csv to a local file called 'ufo_texas.csv'\n",
    "\n",
    "html_response = requests.get(ufo_data_source)\n",
    "ufo_soup = BeautifulSoup(html_response.text, 'html.parser')"
   ]
  },
  {
   "cell_type": "code",
   "execution_count": 3,
   "metadata": {},
   "outputs": [],
   "source": [
    "with open(ufo_data_filename, mode='w') as ufo_data_file:\n",
    "    csv_writer = csv.writer(ufo_data_file)\n",
    "    \n",
    "    headers = []\n",
    "    rows = []\n",
    "    row = []\n",
    "    for th in ufo_soup.find_all('th'):\n",
    "        headers.append(th.string)\n",
    "    csv_writer.writerow(headers)\n",
    "    \n",
    "    col_num = len(headers)\n",
    "    for td in ufo_soup.find_all('td'):\n",
    "        if len(row) < col_num:\n",
    "            row.append(td.string)\n",
    "        else:\n",
    "            rows.append(row)\n",
    "            row = [td.string]\n",
    "        \n",
    "    for row in rows:\n",
    "        csv_writer.writerow(row)"
   ]
  },
  {
   "cell_type": "markdown",
   "metadata": {},
   "source": [
    "Once you have your local csv file, you should read it in and then issue the .head() command."
   ]
  },
  {
   "cell_type": "code",
   "execution_count": 4,
   "metadata": {},
   "outputs": [
    {
     "data": {
      "text/html": [
       "<div>\n",
       "<style scoped>\n",
       "    .dataframe tbody tr th:only-of-type {\n",
       "        vertical-align: middle;\n",
       "    }\n",
       "\n",
       "    .dataframe tbody tr th {\n",
       "        vertical-align: top;\n",
       "    }\n",
       "\n",
       "    .dataframe thead th {\n",
       "        text-align: right;\n",
       "    }\n",
       "</style>\n",
       "<table border=\"1\" class=\"dataframe\">\n",
       "  <thead>\n",
       "    <tr style=\"text-align: right;\">\n",
       "      <th></th>\n",
       "      <th>Date / Time</th>\n",
       "      <th>City</th>\n",
       "      <th>State</th>\n",
       "      <th>Shape</th>\n",
       "      <th>Duration</th>\n",
       "      <th>Summary</th>\n",
       "      <th>Posted</th>\n",
       "    </tr>\n",
       "  </thead>\n",
       "  <tbody>\n",
       "    <tr>\n",
       "      <td>0</td>\n",
       "      <td>9/10/19 22:10</td>\n",
       "      <td>Lake Worth</td>\n",
       "      <td>TX</td>\n",
       "      <td>Light</td>\n",
       "      <td>30 seconds</td>\n",
       "      <td>Two bright objects moving in formation.</td>\n",
       "      <td>9/12/19</td>\n",
       "    </tr>\n",
       "    <tr>\n",
       "      <td>1</td>\n",
       "      <td>9/6/19 21:00</td>\n",
       "      <td>League City</td>\n",
       "      <td>TX</td>\n",
       "      <td>Formation</td>\n",
       "      <td>2 minutes</td>\n",
       "      <td>As we were heading northbound on Hobbs Road in...</td>\n",
       "      <td>9/12/19</td>\n",
       "    </tr>\n",
       "    <tr>\n",
       "      <td>2</td>\n",
       "      <td>9/5/19 07:30</td>\n",
       "      <td>Weatherford</td>\n",
       "      <td>TX</td>\n",
       "      <td>Cylinder</td>\n",
       "      <td>30 seconds</td>\n",
       "      <td>Re-entry moving W, W of Weatherford, TX.</td>\n",
       "      <td>9/12/19</td>\n",
       "    </tr>\n",
       "    <tr>\n",
       "      <td>3</td>\n",
       "      <td>9/4/19 23:00</td>\n",
       "      <td>Ozona</td>\n",
       "      <td>TX</td>\n",
       "      <td>Light</td>\n",
       "      <td>12 seconds</td>\n",
       "      <td>Light almost like a plane flying quickly above...</td>\n",
       "      <td>9/6/19</td>\n",
       "    </tr>\n",
       "    <tr>\n",
       "      <td>4</td>\n",
       "      <td>9/1/19 20:30</td>\n",
       "      <td>League City</td>\n",
       "      <td>TX</td>\n",
       "      <td>Circle</td>\n",
       "      <td>5 minutes</td>\n",
       "      <td>8-9 Orange glowing objects in single file line...</td>\n",
       "      <td>9/6/19</td>\n",
       "    </tr>\n",
       "  </tbody>\n",
       "</table>\n",
       "</div>"
      ],
      "text/plain": [
       "     Date / Time         City State      Shape    Duration  \\\n",
       "0  9/10/19 22:10   Lake Worth    TX      Light  30 seconds   \n",
       "1   9/6/19 21:00  League City    TX  Formation   2 minutes   \n",
       "2   9/5/19 07:30  Weatherford    TX   Cylinder  30 seconds   \n",
       "3   9/4/19 23:00        Ozona    TX      Light  12 seconds   \n",
       "4   9/1/19 20:30  League City    TX     Circle   5 minutes   \n",
       "\n",
       "                                             Summary   Posted  \n",
       "0            Two bright objects moving in formation.  9/12/19  \n",
       "1  As we were heading northbound on Hobbs Road in...  9/12/19  \n",
       "2           Re-entry moving W, W of Weatherford, TX.  9/12/19  \n",
       "3  Light almost like a plane flying quickly above...   9/6/19  \n",
       "4  8-9 Orange glowing objects in single file line...   9/6/19  "
      ]
     },
     "execution_count": 4,
     "metadata": {},
     "output_type": "execute_result"
    }
   ],
   "source": [
    "# your code here\n",
    "\n",
    "ufo_csv = pd.read_csv(ufo_data_filename)\n",
    "ufo_csv.head()"
   ]
  },
  {
   "cell_type": "markdown",
   "metadata": {},
   "source": [
    "## (10 points) Part 1b: UFOs are a Mess! Time to Clean Up!\n",
    "\n",
    "Okay, now we move to the fun part -- making sense of this messy data. These UFO reports are user-generated with little input validation. As a result, you will notice lots of oddities. \n",
    "\n",
    "Let's begin by focusing on the **Duration** column. As a first pass, let's make a grossly simplifying assumption -- that the only valid data is any duration that is of the form:  \n",
    "\n",
    "* 1 second\n",
    "* 2 seconds\n",
    "* ...\n",
    "* 1 minute\n",
    "* 2 minutes\n",
    "* ...\n",
    "* 1 hour\n",
    "* 2 hours \n",
    "* ...\n",
    "* 1 day\n",
    "* 2 days \n",
    "* ...\n",
    "\n",
    "That is, we will only accept positive integers followed by a space, followed by a properly spelled unit. Every other entry is invalid. For example, that means these are all invalid durations:\n",
    "\n",
    "* 1s\n",
    "* 2 min.\n",
    "* 2-3 seconds\n",
    "* 10-15min\n",
    "* 1 minute+\n",
    "* 30 minutes and longer\n",
    "* about 1.5 minutes\n",
    "\n",
    "Create a new pandas dataframe that only includes sightings with these values, **where you convert all durations into seconds**. How many total rows are there in the original dataset? How many rows in your new 'validated' dataset? Report the basic statistics of the duration in your new 'validated' dataset (report maximum, minimum, mean, and standard deviation values of duration). At last, plot a boxplot of the duration (in seconds) in your 'validated' dataset."
   ]
  },
  {
   "cell_type": "code",
   "execution_count": 5,
   "metadata": {},
   "outputs": [],
   "source": [
    "# your code here \n",
    "# filter our invalid durations\n",
    "# convert all valid durations to seconds\n",
    "\n",
    "duration_rule = '^\\d+\\s(second|minute|hour|day)s?$'\n",
    "regex_pattern = re.compile(duration_rule, re.IGNORECASE)\n",
    "\n",
    "def regex_match(row):\n",
    "    return regex_pattern.match(str(row['Duration'])) != None\n",
    "\n",
    "validated_by_durations = ufo_csv.loc[ufo_csv.apply(regex_match, axis=1)]"
   ]
  },
  {
   "cell_type": "code",
   "execution_count": 6,
   "metadata": {},
   "outputs": [
    {
     "name": "stdout",
     "output_type": "stream",
     "text": [
      "validated dataset: 2594 rows\n",
      "0       30 seconds\n",
      "1        2 minutes\n",
      "2       30 seconds\n",
      "3       12 seconds\n",
      "4        5 minutes\n",
      "           ...    \n",
      "5034     2 minutes\n",
      "5035     5 minutes\n",
      "5038    05 minutes\n",
      "5043    15 minutes\n",
      "5044    10 minutes\n",
      "Name: Duration, Length: 2594, dtype: object\n"
     ]
    }
   ],
   "source": [
    "print('validated dataset:', validated_by_durations['Duration'].size, 'rows')\n",
    "print(validated_by_durations['Duration'])"
   ]
  },
  {
   "cell_type": "code",
   "execution_count": 7,
   "metadata": {},
   "outputs": [],
   "source": [
    "def to_seconds(durations, time_unit_in_seconds):\n",
    "\n",
    "    durations_in_second = np.asarray([])\n",
    "    for d in durations:\n",
    "        split = d.split()\n",
    "        duration = float(split[0])\n",
    "        unit = split[1]\n",
    "\n",
    "        # if duration has legit unit, convert to second and add to list\n",
    "        for legit_unit in time_unit_in_seconds:\n",
    "            if bool(re.match(legit_unit, unit, re.IGNORECASE)):\n",
    "                durations_in_second = np.append(durations_in_second, duration * int(time_unit_in_seconds[legit_unit]))\n",
    "                break\n",
    "                \n",
    "    return durations_in_second"
   ]
  },
  {
   "cell_type": "code",
   "execution_count": 8,
   "metadata": {},
   "outputs": [],
   "source": [
    "time_unit_in_seconds = {\n",
    "    'second': 1,\n",
    "    'minute': 60,\n",
    "    'hour': 3600,\n",
    "    'day': 86400\n",
    "}\n",
    "\n",
    "validated_duration_seconds = to_seconds(validated_by_durations['Duration'], time_unit_in_seconds)"
   ]
  },
  {
   "cell_type": "code",
   "execution_count": 9,
   "metadata": {},
   "outputs": [
    {
     "name": "stdout",
     "output_type": "stream",
     "text": [
      "original dataset: 5045 rows\n",
      "validated durations in seconds: 2594 rows\n",
      "[ 30. 120.  30. ... 300. 900. 600.]\n"
     ]
    }
   ],
   "source": [
    "# your code here\n",
    "# total rows in original dataset\n",
    "# valid rows in your new 'validated' dataset\n",
    "\n",
    "print('original dataset:', ufo_csv['Duration'].size, 'rows')\n",
    "print('validated durations in seconds:', validated_duration_seconds.size, 'rows')\n",
    "print(validated_duration_seconds)"
   ]
  },
  {
   "cell_type": "code",
   "execution_count": 10,
   "metadata": {},
   "outputs": [
    {
     "name": "stdout",
     "output_type": "stream",
     "text": [
      "max: 345600.0 second(s)\n",
      "min: 1.0 second(s)\n",
      "mean: 1371.0389360061681 second(s)\n",
      "standard deviation: 12696.186481716264 second(s)\n"
     ]
    },
    {
     "data": {
      "image/png": "[encoded data removed]",
      "text/plain": [
       "<Figure size 432x288 with 1 Axes>"
      ]
     },
     "metadata": {},
     "output_type": "display_data"
    }
   ],
   "source": [
    "# your code here\n",
    "# report the basic statistics of duration in 'validated' dataset\n",
    "# boxplot code here\n",
    "\n",
    "print('max:', validated_duration_seconds.max(), 'second(s)')\n",
    "print('min:', validated_duration_seconds.min(), 'second(s)')\n",
    "print('mean:', validated_duration_seconds.mean(), 'second(s)')\n",
    "print('standard deviation:', validated_duration_seconds.std(), 'second(s)')\n",
    "\n",
    "seaborn.set(style='whitegrid')\n",
    "seaborn.boxplot(x=validated_duration_seconds)\n",
    "plt.show()"
   ]
  },
  {
   "cell_type": "code",
   "execution_count": 11,
   "metadata": {},
   "outputs": [
    {
     "data": {
      "image/png": "[encoded data removed]",
      "text/plain": [
       "<Figure size 432x288 with 1 Axes>"
      ]
     },
     "metadata": {},
     "output_type": "display_data"
    }
   ],
   "source": [
    "# remove outliers\n",
    "seaborn.boxplot(x=validated_duration_seconds, showfliers=False)\n",
    "plt.show()"
   ]
  },
  {
   "cell_type": "markdown",
   "metadata": {},
   "source": [
    "## (30 points) Part 1c: Can we do better?\n",
    "Interesting. But we threw away a **lot** of data. We can do better. For this part, you will do your best to clean up the durations from your original dataset. Keep in mind some initial guidelines:\n",
    "\n",
    "* If a duration has a range, use the average as its value. For example, if the duration is listed as “6-8 minutes”, you should consider the duration as “7 minutes”. (Again, you will need to eventually convert minutes into seconds).\n",
    "* If a duration has a “<” sign, you should simply ignore the “<” sign. For example if the duration is specified as “< 1 minute”, consider the duration to be “1 minute”. You should subsequently convert “1 minute” to \"60 seconds\".\n",
    "* If a duration has a “>” sign, you should simply ignore the “>” sign. \n",
    "* You should ignore any row with an empty duration.\n",
    "\n",
    "You will probably have to improvise as you go along, so **make detailed notes of what decisions you are making and why**."
   ]
  },
  {
   "cell_type": "code",
   "execution_count": 12,
   "metadata": {},
   "outputs": [],
   "source": [
    "# your code here \n",
    "# clean data \n",
    "# convert cleaned durations to seconds"
   ]
  },
  {
   "cell_type": "code",
   "execution_count": 13,
   "metadata": {},
   "outputs": [
    {
     "name": "stdout",
     "output_type": "stream",
     "text": [
      "{'second': '1', 'sec': '1', 's': '1', 'minute': '60', 'min': '60', 'm': '60', 'hour': '3600', 'hr': '3600', 'h': '3600', 'day': '86400', 'd': '86400'}\n",
      "second|sec|s|minute|min|m|hour|hr|h|day|d\n"
     ]
    }
   ],
   "source": [
    "legit_units = {\n",
    "    '1': ['second', 'sec', 's'],\n",
    "    '60': ['minute', 'min', 'm'],\n",
    "    '3600': ['hour', 'hr', 'h'],\n",
    "    '86400': ['day', 'd']\n",
    "}\n",
    "\n",
    "time_unit_in_seconds = {list_val: k for k, v in legit_units.items() for list_val in v}\n",
    "print(time_unit_in_seconds)\n",
    "\n",
    "legit_units_str = '|'.join(list(time_unit_in_seconds.keys()))\n",
    "print(legit_units_str)"
   ]
  },
  {
   "cell_type": "code",
   "execution_count": 14,
   "metadata": {},
   "outputs": [],
   "source": [
    "rules = {\n",
    "    'exact': '^[~\\s*]?(\\d+)\\s*(' + legit_units_str + ')s?$',\n",
    "    'range': '^(\\d+)\\s*(?:-|to)\\s*(\\d+)\\s*(' + legit_units_str + ')s?$',\n",
    "    'longer': '^>\\s*(\\d+)\\s*(' + legit_units_str + ')s?$',\n",
    "    'shorter': '^<\\s*(\\d+)\\s*(' + legit_units_str + ')s?$'\n",
    "}\n",
    "\n",
    "patterns = {key: re.compile(value, re.IGNORECASE) for key, value in rules.items()}"
   ]
  },
  {
   "cell_type": "code",
   "execution_count": 15,
   "metadata": {},
   "outputs": [],
   "source": [
    "# convert each duration to a format of (# unit) by the rule they match\n",
    "\n",
    "def modify_duration_by_rule_matching(row, rule, pattern_match):    \n",
    "    if rule == 'range':\n",
    "        # original format: (#a)-(#b) units\n",
    "        # convert to a format of (average(a, b) unit)\n",
    "        average_time = (float(pattern_match.group(1)) + float(pattern_match.group(2))) / 2\n",
    "        validated_duration = '%s %s' % (str(average_time), pattern_match.group(3))\n",
    "    else:\n",
    "        validated_duration = '%s %s' % (pattern_match.group(1), pattern_match.group(2))\n",
    "\n",
    "    ufo_csv.iloc[row.name]['Duration'] = validated_duration\n",
    "\n",
    "def regex_match_any(row):\n",
    "    for rule, pattern in patterns.items():\n",
    "        pattern_match = pattern.match(str(row['Duration']))\n",
    "        if pattern_match:\n",
    "            modify_duration_by_rule_matching(row, rule, pattern_match)\n",
    "            return True\n",
    "    return False"
   ]
  },
  {
   "cell_type": "code",
   "execution_count": 16,
   "metadata": {},
   "outputs": [
    {
     "name": "stdout",
     "output_type": "stream",
     "text": [
      "better validated dataset: 3685 rows\n",
      "0       30 second\n",
      "1        2 minute\n",
      "2       30 second\n",
      "3       12 second\n",
      "4        5 minute\n",
      "          ...    \n",
      "5034     2 minute\n",
      "5035     5 minute\n",
      "5038    05 minute\n",
      "5043    15 minute\n",
      "5044    10 minute\n",
      "Name: Duration, Length: 3685, dtype: object\n"
     ]
    }
   ],
   "source": [
    "better_validated_by_durations = ufo_csv.loc[ufo_csv.apply(regex_match_any, axis=1)]\n",
    "\n",
    "print('better validated dataset:', better_validated_by_durations['Duration'].size, 'rows')\n",
    "print(better_validated_by_durations['Duration'])"
   ]
  },
  {
   "cell_type": "code",
   "execution_count": 17,
   "metadata": {},
   "outputs": [
    {
     "name": "stdout",
     "output_type": "stream",
     "text": [
      "original dataset: 5045 rows\n",
      "better validated durations in second: 3685 rows\n"
     ]
    }
   ],
   "source": [
    "# your code here\n",
    "# total rows in original dataset\n",
    "# valid rows in your cleaned dataset\n",
    "\n",
    "better_validated_duration_seconds = to_seconds(better_validated_by_durations['Duration'], time_unit_in_seconds)\n",
    "\n",
    "print('original dataset:', ufo_csv['Duration'].size, 'rows')\n",
    "print('better validated durations in second:', better_validated_duration_seconds.size, 'rows')"
   ]
  },
  {
   "cell_type": "code",
   "execution_count": 18,
   "metadata": {},
   "outputs": [
    {
     "name": "stdout",
     "output_type": "stream",
     "text": [
      "max: 345600.0 second(s)\n",
      "min: 1.0 second(s)\n",
      "mean: 1186.0906377204885 second(s)\n",
      "standard deviation: 10718.02163901229 second(s)\n"
     ]
    },
    {
     "data": {
      "image/png": "[encoded data removed]",
      "text/plain": [
       "<Figure size 432x288 with 1 Axes>"
      ]
     },
     "metadata": {},
     "output_type": "display_data"
    }
   ],
   "source": [
    "# your code here\n",
    "# report the basic statistics of duration in your cleaned dataset\n",
    "# draw a boxplot for your cleaned dataset\n",
    "\n",
    "print('max:', better_validated_duration_seconds.max(), 'second(s)')\n",
    "print('min:', better_validated_duration_seconds.min(), 'second(s)')\n",
    "print('mean:', better_validated_duration_seconds.mean(), 'second(s)')\n",
    "print('standard deviation:', better_validated_duration_seconds.std(), 'second(s)')\n",
    "\n",
    "seaborn.set(style='whitegrid')\n",
    "seaborn.boxplot(x=better_validated_duration_seconds, showfliers=False)\n",
    "plt.show()"
   ]
  },
  {
   "cell_type": "markdown",
   "metadata": {},
   "source": [
    "Now, introduce your cleaning process step by step and explaine the reason behind your steps. Then, revisit your two boxplots -- for the initial \"valid\" dataset and then for your cleaned dataset. What do you observe? What differences does cleaning have? Would you imagine your downstream analyses would be affected by this cleaning step? Explain."
   ]
  },
  {
   "cell_type": "markdown",
   "metadata": {},
   "source": [
    "First, I followed the instructed cases: to only process exact, range, larger- and less-than durations values. I found only 2993 valid rows, so I took a few steps further.\n",
    "I added more possible time units to my regex patterns as people usualy use abbreviations. I yielded 3437 valid rows.\n",
    "I then removed the rule for spaces, so now I allowed data with or without spaces between numbers, symbols or the time unit. This gave me 3592 valid rows.\n",
    "Then, I worked on adding more semantic features into my regex pattern. By allowing rows with a '~' symbol before the number, I got 3630 valid rows.\n",
    "Finally, I treated 'to' and '-' equally in the duration range rule ('3 to 4 minutes' the same as '3 - 4 minutes'). Now I got 3685 valid rows.\n",
    "\n",
    "The initial valid dataset has these features:\n",
    "mean: 1371.0389360061681 second(s),\n",
    "standard deviation: 12696.186481716264 second(s),\n",
    "while the much cleaner dataset has:\n",
    "mean: 1186.0906377204885 second(s),\n",
    "standard deviation: 10718.02163901229 second(s).\n",
    "\n",
    "We might observe that both the mean and standard deviation have decreased. This makes sense as more data are processed and considered valid."
   ]
  },
  {
   "cell_type": "markdown",
   "metadata": {},
   "source": [
    "## (10 points) Part 1d: Probe This, you Alien Invaders.\n",
    "Finally, let's begin our initial analysis of the cleaned UFO dataset. In this section, we're going to do some plotting with matplotlib and draw some initial conclusions that may guide our future study of this UFO dataset. "
   ]
  },
  {
   "cell_type": "markdown",
   "metadata": {},
   "source": [
    "Question 1: Which **shapes** are most observed?"
   ]
  },
  {
   "cell_type": "code",
   "execution_count": 19,
   "metadata": {},
   "outputs": [
    {
     "data": {
      "image/png": "[encoded data removed]",
      "text/plain": [
       "<Figure size 1656x360 with 1 Axes>"
      ]
     },
     "metadata": {},
     "output_type": "display_data"
    },
    {
     "name": "stdout",
     "output_type": "stream",
     "text": [
      "TOP 10 Shape Occurence:\n"
     ]
    },
    {
     "data": {
      "image/png": "[encoded data removed]",
      "text/plain": [
       "<Figure size 576x360 with 1 Axes>"
      ]
     },
     "metadata": {},
     "output_type": "display_data"
    }
   ],
   "source": [
    "# your code here\n",
    "# create a plot of shapes (your choice of what you consider the appropriate plot)\n",
    "\n",
    "plt.subplots(figsize=(23,5))\n",
    "seaborn.set(style=\"darkgrid\")\n",
    "seaborn.countplot(x=\"Shape\", data=better_validated_by_durations)\n",
    "plt.show()\n",
    "\n",
    "print('TOP 10 Shape Occurence:')\n",
    "plt.subplots(figsize=(8,5))\n",
    "seaborn.countplot(x=\"Shape\", data=better_validated_by_durations,\n",
    "                  order=pd.value_counts(better_validated_by_durations['Shape']).iloc[:10].index)\n",
    "plt.show()"
   ]
  },
  {
   "cell_type": "markdown",
   "metadata": {},
   "source": [
    "Question 2: Do different UFO shapes have different durations?"
   ]
  },
  {
   "cell_type": "code",
   "execution_count": 20,
   "metadata": {},
   "outputs": [
    {
     "data": {
      "image/png": "[encoded data removed]",
      "text/plain": [
       "<Figure size 1728x360 with 1 Axes>"
      ]
     },
     "metadata": {},
     "output_type": "display_data"
    }
   ],
   "source": [
    "# your code here\n",
    "# create a plot of shapes/durations\n",
    "\n",
    "better_validated_by_durations = better_validated_by_durations.assign(DurationInSeconds=better_validated_duration_seconds)\n",
    "\n",
    "plt.subplots(figsize=(24,5))\n",
    "seaborn.scatterplot(x='Shape', y='DurationInSeconds', data=better_validated_by_durations)\n",
    "plt.show()"
   ]
  },
  {
   "cell_type": "markdown",
   "metadata": {},
   "source": [
    "Question 3: Are there more UFO sightings in recent years than in the past?"
   ]
  },
  {
   "cell_type": "code",
   "execution_count": 21,
   "metadata": {},
   "outputs": [],
   "source": [
    "# your code here\n",
    "# you might want to bucket the sightings into years\n",
    "# or perhaps you have some other ideas. we are flexible."
   ]
  },
  {
   "cell_type": "markdown",
   "metadata": {},
   "source": [
    "Question 4: Based on your observations and analyses, what are some important next steps we should take?"
   ]
  },
  {
   "cell_type": "markdown",
   "metadata": {},
   "source": [
    "From Question 1 to 3, we observed that there were some categorical data which we should join and treat as the same variable. For example, for UFO shapes we found both 'Light' and 'light', which could be combined into the same category. We also captured this when we were processing UFO durations, where '5 mins', 'five minutes' and '300 seconds' should be the same, as an example. For durations we dealt with this issue by converting all durations into the same unit. But for UFO shapes, we have to check the spelling and put the same words in different forms together."
   ]
  },
  {
   "cell_type": "markdown",
   "metadata": {},
   "source": [
    "## (40 points) Part 2: Association Rules in Movie Rating Behaviors\n",
    "In this part, we are going to leave the study of UFOs behind us. Now we are going to examine movies using our understanding of association rules. For this part, you need to implement the apriori algorithm, and apply it to a movie rating dataset to find association rules of user movie rating behaviors. First, run the next cell to load the dataset we are going to use."
   ]
  },
  {
   "cell_type": "code",
   "execution_count": 22,
   "metadata": {},
   "outputs": [
    {
     "data": {
      "text/html": [
       "<div>\n",
       "<style scoped>\n",
       "    .dataframe tbody tr th:only-of-type {\n",
       "        vertical-align: middle;\n",
       "    }\n",
       "\n",
       "    .dataframe tbody tr th {\n",
       "        vertical-align: top;\n",
       "    }\n",
       "\n",
       "    .dataframe thead th {\n",
       "        text-align: right;\n",
       "    }\n",
       "</style>\n",
       "<table border=\"1\" class=\"dataframe\">\n",
       "  <thead>\n",
       "    <tr style=\"text-align: right;\">\n",
       "      <th></th>\n",
       "      <th>userId</th>\n",
       "      <th>movieId</th>\n",
       "    </tr>\n",
       "  </thead>\n",
       "  <tbody>\n",
       "    <tr>\n",
       "      <td>0</td>\n",
       "      <td>1</td>\n",
       "      <td>2160</td>\n",
       "    </tr>\n",
       "    <tr>\n",
       "      <td>1</td>\n",
       "      <td>1</td>\n",
       "      <td>2312</td>\n",
       "    </tr>\n",
       "    <tr>\n",
       "      <td>2</td>\n",
       "      <td>1</td>\n",
       "      <td>144</td>\n",
       "    </tr>\n",
       "    <tr>\n",
       "      <td>3</td>\n",
       "      <td>1</td>\n",
       "      <td>480</td>\n",
       "    </tr>\n",
       "    <tr>\n",
       "      <td>4</td>\n",
       "      <td>2</td>\n",
       "      <td>2160</td>\n",
       "    </tr>\n",
       "  </tbody>\n",
       "</table>\n",
       "</div>"
      ],
      "text/plain": [
       "   userId  movieId\n",
       "0       1     2160\n",
       "1       1     2312\n",
       "2       1      144\n",
       "3       1      480\n",
       "4       2     2160"
      ]
     },
     "execution_count": 22,
     "metadata": {},
     "output_type": "execute_result"
    }
   ],
   "source": [
    "# First load the dataset\n",
    "movie_rating_df = pd.read_csv('./movie_rated.csv')\n",
    "movie_rating_df.head()"
   ]
  },
  {
   "cell_type": "markdown",
   "metadata": {},
   "source": [
    "In this dataset, there are two columns: userId is the integer ids of users, and movieId is the integer ids of movies. Each row denotes that the user of given userId rated the movie of the given movieId. We are going to treat each user as a \"basket\", so you will need to collect all the movies that have been rated by a single user as a basket. \n",
    "\n",
    "Now, you need to implement the apriori algorithm and apply it to this dataset to find association rules of user rating behaviors with **minimum support of 0.2** and **minimum confidence of 0.8**. We know there are many existing implementations of apriori online (check github for some good starting points). You are welcome to read existing codebases and let that inform your approach. Do not copy-paste any existing code. We want your code to have sufficient comments to explain your steps, to show us that you really know what you are doing. Furthermore, you should add print statements to print out the intermediate steps of your method -- e.g., the size of the candidate set at each step of the method, the size of the filtered set, and any other important information you think will highlight the method. "
   ]
  },
  {
   "cell_type": "code",
   "execution_count": 23,
   "metadata": {},
   "outputs": [],
   "source": [
    "# your code here, including all the helpful print statements\n",
    "# when you run this block, we want to see all of your intermediate steps\n",
    "# you can save the rules you discover for printing in the following cells (this will help us grade by\n",
    "# keeping these separate)\n",
    "\n",
    "# Used as global variables in the following functions\n",
    "min_support = 0.2\n",
    "min_confidence = 0.8"
   ]
  },
  {
   "cell_type": "code",
   "execution_count": 24,
   "metadata": {},
   "outputs": [
    {
     "name": "stdout",
     "output_type": "stream",
     "text": [
      "{2053, 5, 11, 2060, 2067, 20, 2070, 2071, 2073, 26, 2076, 28, 33, 2087, 41, 2097, 2098, 2102, 57, 2116, 69, 2118, 75, 2134, 87, 88, 92, 93, 2142, 95, 2143, 100, 102, 103, 2153, 2157, 2160, 2161, 2162, 2171, 135, 2184, 2188, 141, 144, 2192, 2195, 148, 149, 151, 2200, 2203, 159, 163, 2212, 170, 175, 2245, 198, 2246, 2249, 205, 208, 210, 2276, 229, 2283, 2284, 2287, 240, 241, 249, 2298, 259, 260, 2307, 2312, 265, 269, 271, 2325, 282, 2330, 292, 2352, 305, 306, 2357, 309, 2365, 2367, 2377, 2378, 2381, 2382, 343, 2393, 346, 360, 2409, 361, 363, 2413, 377, 383, 2435, 388, 387, 390, 2450, 411, 2474, 2476, 429, 2483, 2485, 2499, 451, 2501, 2502, 2503, 460, 470, 472, 473, 474, 480, 482, 484, 2537, 492, 2540, 501, 2554, 2558, 511, 513, 2574, 527, 2575, 528, 2579, 533, 2581, 2583, 538, 2586, 540, 544, 2596, 558, 565, 567, 568, 2633, 587, 596, 603, 2653, 2654, 2662, 615, 618, 2669, 2670, 627, 2679, 633, 2701, 2702, 656, 2705, 2706, 2710, 665, 2719, 2737, 2740, 2741, 695, 2743, 707, 2757, 718, 728, 2786, 2795, 2810, 764, 766, 2821, 2826, 782, 783, 792, 2844, 2848, 2849, 803, 809, 811, 2862, 2863, 830, 2882, 2883, 2884, 837, 2890, 2893, 846, 2898, 850, 858, 862, 867, 2923, 2924, 2926, 2932, 885, 888, 2940, 896, 906, 911, 2970, 927, 2987, 2990, 949, 950, 3007, 3011, 3013, 3014, 970, 972, 973, 3028, 3037, 994, 998, 3050, 3051, 3061, 3063, 1015, 1017, 1019, 3067, 3069, 3070, 3079, 1032, 1035, 1043, 3093, 1046, 1054, 1058, 3109, 3111, 1084, 3139, 1094, 3142, 3143, 1101, 3152, 3153, 1112, 1116, 1119, 3171, 1127, 1130, 1131, 3186, 1138, 3189, 1147, 3198, 1152, 3208, 1162, 3211, 1163, 3217, 3221, 3235, 1188, 1194, 3243, 3244, 1197, 3248, 1203, 1204, 3255, 3259, 3261, 1217, 1221, 1224, 3274, 1228, 1236, 1237, 1241, 1252, 1254, 1256, 1261, 1265, 1268, 1270, 1293, 1297, 1305, 1326, 1337, 1341, 1344, 1348, 1351, 1357, 1359, 1366, 1378, 1387, 1399, 1426, 1431, 1449, 1480, 1483, 1488, 1490, 1495, 1496, 1513, 1514, 1535, 1539, 1556, 1558, 1565, 1584, 1593, 1612, 1625, 1631, 1635, 1646, 1653, 1662, 1663, 1672, 1673, 1684, 1687, 1689, 1693, 1713, 1722, 1733, 1739, 1744, 1750, 1752, 1758, 1767, 1772, 1792, 1797, 1831, 1837, 1848, 1862, 1866, 1875, 1880, 1898, 1900, 1925, 1942, 1943, 1946, 1947, 1952, 1961, 1972, 1974, 1975, 1983, 1991, 1996, 1999, 2002, 2005, 2009, 2010, 2020, 2021, 2028, 2043, 2045}\n"
     ]
    }
   ],
   "source": [
    "# create baskets and 1-itemsets\n",
    "baskets = {}\n",
    "movies = set()\n",
    "for row in movie_rating_df.iterrows():\n",
    "    userId = row[1]['userId']\n",
    "    movieId = row[1]['movieId']\n",
    "    movies.add(movieId)\n",
    "    \n",
    "    if userId in baskets:\n",
    "        baskets[userId].add(movieId)\n",
    "    else:\n",
    "        baskets[userId] = { movieId }\n",
    "        \n",
    "print(movies)"
   ]
  },
  {
   "cell_type": "code",
   "execution_count": 25,
   "metadata": {},
   "outputs": [],
   "source": [
    "from itertools import combinations\n",
    "\n",
    "# params: itemset: a set of items\n",
    "# return: a number of support (fraction, float) of the itemset\n",
    "def getSupport(itemset):\n",
    "    count = 0\n",
    "    # count total occurence in all baskets\n",
    "    for userId in baskets:\n",
    "        if itemset.issubset(baskets[userId]):\n",
    "            count += 1\n",
    "            \n",
    "    return count / len(baskets)\n",
    "\n",
    "# params: combinations - a list of tuples of possible item combinations\n",
    "# return: a list of tuples of frequent items\n",
    "def getFrequentItems(combos):\n",
    "    frequent_items = []\n",
    "    for combo in combos:\n",
    "        support = getSupport(set(combo))\n",
    "        if support >= min_support:\n",
    "            frequent_items.append(combo)\n",
    "            \n",
    "    return frequent_items\n",
    "\n",
    "# params: frequent_items - a list of tuples of frequent items\n",
    "# params: size - the size of itemset we generate\n",
    "# return: a list of tuples of combination of frequent items in given size\n",
    "def getCombinations(frequent_items, size):\n",
    "    # because frequent_items is a list of tuples (frequent itemsets)\n",
    "    # here we transform it into a set of frequent items\n",
    "    # example: [(A,B),(B,C)] => {A,B,C}\n",
    "    frequent_itemset = set()\n",
    "    for items_tuple in frequent_items:\n",
    "        for item in items_tuple:\n",
    "            frequent_itemset.add(item)\n",
    "    \n",
    "    combos = list(combinations(frequent_itemset, size))\n",
    "    # TODO: Prune some unnecessary combinations to reduce # of calculations\n",
    "    return combos\n",
    "\n",
    "# params: intersection - set of items which is the intersection of condition and consequence\n",
    "# params: condition - set of items which indicates the condition\n",
    "# return: confidence of event happening\n",
    "def getConfidence(intersection, condition):\n",
    "    return getSupport(intersection) / getSupport(condition)\n",
    "\n",
    "# params: frequent_items - a list of itemset tuples to find association rules\n",
    "# params: association_rules - rules found\n",
    "# return: none\n",
    "def findRules(frequent_items, association_rules):\n",
    "    for item_tuple in frequent_items:\n",
    "        itemset = set(item_tuple)\n",
    "        for item in itemset:\n",
    "            condition = itemset - {item}\n",
    "            if getConfidence(itemset, condition) >= min_confidence:\n",
    "                association_rules.append((condition, item))"
   ]
  },
  {
   "cell_type": "code",
   "execution_count": 26,
   "metadata": {},
   "outputs": [],
   "source": [
    "def printFrequentItemsets(frequent_items, level):\n",
    "    print('Frequent', level, '-itemsets:')\n",
    "    print(len(frequent_items), 'itemsets')\n",
    "    print(frequent_items)\n",
    "\n",
    "# params: baskets - a dictionary of keys and a basket(set) of items for each key\n",
    "# return: set of rules ({x1, x2, x3, ...} -> y)\n",
    "def apriori(baskets):\n",
    "    if len(baskets) == 0:\n",
    "        return set()\n",
    "    \n",
    "    association_rules = []\n",
    "    \n",
    "    # Get all items into one set\n",
    "    all_itemset = set()\n",
    "    for key in baskets:\n",
    "        all_itemset = all_itemset.union(baskets[key])\n",
    "    item_tuples = [ (item,) for item in all_itemset ]\n",
    "    \n",
    "    level = 1\n",
    "    frequent_items = getFrequentItems(item_tuples)\n",
    "    printFrequentItemsets(frequent_items, level)\n",
    "        \n",
    "    while len(frequent_items) > 0:\n",
    "        level += 1\n",
    "        # Step 1: create possible combinations of items\n",
    "        combo = getCombinations(frequent_items, level)\n",
    "        \n",
    "        # Step 2: find the frequent combinations\n",
    "        frequent_items = getFrequentItems(combo)\n",
    "        printFrequentItemsets(frequent_items, level)\n",
    "        \n",
    "        # Step 3: find rules from the combinations\n",
    "        findRules(frequent_items, association_rules)\n",
    "        \n",
    "    return association_rules"
   ]
  },
  {
   "cell_type": "code",
   "execution_count": 27,
   "metadata": {},
   "outputs": [
    {
     "name": "stdout",
     "output_type": "stream",
     "text": [
      "Frequent 1 -itemsets:\n",
      "21 itemsets\n",
      "[(1094,), (1127,), (1197,), (3255,), (1221,), (1252,), (1265,), (1270,), (260,), (1387,), (377,), (480,), (527,), (1584,), (587,), (2706,), (2710,), (858,), (1961,), (2987,), (2028,)]\n",
      "Frequent 2 -itemsets:\n",
      "36 itemsets\n",
      "[(260, 527), (260, 2987), (260, 1197), (260, 1221), (260, 858), (260, 480), (260, 1127), (260, 1387), (260, 2028), (260, 1265), (260, 1270), (260, 377), (527, 1197), (527, 858), (527, 480), (527, 2028), (527, 1265), (527, 1270), (2987, 1197), (2987, 1270), (1197, 858), (1197, 480), (1197, 2028), (1197, 1265), (1197, 1270), (1221, 858), (858, 480), (858, 2028), (858, 1270), (480, 2028), (480, 1265), (480, 1270), (480, 377), (2028, 1265), (2028, 1270), (1265, 1270)]\n",
      "Frequent 3 -itemsets:\n",
      "12 itemsets\n",
      "[(480, 260, 1197), (480, 260, 2028), (480, 260, 1270), (260, 1221, 858), (260, 1197, 2028), (260, 1197, 1265), (260, 1197, 1270), (260, 2028, 527), (260, 2028, 1270), (260, 527, 1270), (260, 1265, 1270), (1197, 1265, 1270)]\n",
      "Frequent 4 -itemsets:\n",
      "0 itemsets\n",
      "[]\n",
      "\n",
      "Association Rules: [({1387}, 260), ({1221}, 858), ({480, 1197}, 260), ({480, 2028}, 260), ({480, 1270}, 260), ({260, 1221}, 858), ({858, 1221}, 260), ({2028, 1197}, 260), ({1197, 1270}, 260), ({260, 1197}, 1270), ({2028, 1270}, 260), ({1270, 527}, 260), ({1265, 260}, 1270), ({1265, 1197}, 1270)]\n"
     ]
    }
   ],
   "source": [
    "association_rules = apriori(baskets)\n",
    "print()\n",
    "print('Association Rules:', association_rules)"
   ]
  },
  {
   "cell_type": "code",
   "execution_count": 28,
   "metadata": {},
   "outputs": [
    {
     "data": {
      "text/html": [
       "<div>\n",
       "<style scoped>\n",
       "    .dataframe tbody tr th:only-of-type {\n",
       "        vertical-align: middle;\n",
       "    }\n",
       "\n",
       "    .dataframe tbody tr th {\n",
       "        vertical-align: top;\n",
       "    }\n",
       "\n",
       "    .dataframe thead th {\n",
       "        text-align: right;\n",
       "    }\n",
       "</style>\n",
       "<table border=\"1\" class=\"dataframe\">\n",
       "  <thead>\n",
       "    <tr style=\"text-align: right;\">\n",
       "      <th></th>\n",
       "      <th>Id</th>\n",
       "      <th>Name</th>\n",
       "      <th>Other Attributes</th>\n",
       "    </tr>\n",
       "  </thead>\n",
       "  <tbody>\n",
       "    <tr>\n",
       "      <td>0</td>\n",
       "      <td>1</td>\n",
       "      <td>Toy Story (1995)</td>\n",
       "      <td>Animation|Children's|Comedy</td>\n",
       "    </tr>\n",
       "    <tr>\n",
       "      <td>1</td>\n",
       "      <td>2</td>\n",
       "      <td>Jumanji (1995)</td>\n",
       "      <td>Adventure|Children's|Fantasy</td>\n",
       "    </tr>\n",
       "    <tr>\n",
       "      <td>2</td>\n",
       "      <td>3</td>\n",
       "      <td>Grumpier Old Men (1995)</td>\n",
       "      <td>Comedy|Romance</td>\n",
       "    </tr>\n",
       "    <tr>\n",
       "      <td>3</td>\n",
       "      <td>4</td>\n",
       "      <td>Waiting to Exhale (1995)</td>\n",
       "      <td>Comedy|Drama</td>\n",
       "    </tr>\n",
       "    <tr>\n",
       "      <td>4</td>\n",
       "      <td>5</td>\n",
       "      <td>Father of the Bride Part II (1995)</td>\n",
       "      <td>Comedy</td>\n",
       "    </tr>\n",
       "  </tbody>\n",
       "</table>\n",
       "</div>"
      ],
      "text/plain": [
       "   Id                                Name              Other Attributes\n",
       "0   1                    Toy Story (1995)   Animation|Children's|Comedy\n",
       "1   2                      Jumanji (1995)  Adventure|Children's|Fantasy\n",
       "2   3             Grumpier Old Men (1995)                Comedy|Romance\n",
       "3   4            Waiting to Exhale (1995)                  Comedy|Drama\n",
       "4   5  Father of the Bride Part II (1995)                        Comedy"
      ]
     },
     "execution_count": 28,
     "metadata": {},
     "output_type": "execute_result"
    }
   ],
   "source": [
    "movie_attributes_filename = 'movies.dat'\n",
    "movie_attributes = pd.read_csv(movie_attributes_filename,\n",
    "                               names=['Id', 'Name', 'Other Attributes'],\n",
    "                               sep='::',\n",
    "                               engine='python')\n",
    "movie_attributes.head()"
   ]
  },
  {
   "cell_type": "code",
   "execution_count": 29,
   "metadata": {},
   "outputs": [],
   "source": [
    "def getMovieName(movieId):\n",
    "    return movie_attributes.loc[movie_attributes['Id'] == movieId]['Name'].values[0]\n",
    "\n",
    "movie_association_rules = []\n",
    "for rule in association_rules:\n",
    "    # rule: ({movies}, movie)\n",
    "    movie_names = { getMovieName(movieId) for movieId in rule[0] }\n",
    "    formatted_rule = ', '.join(movie_names)\n",
    "    formatted_rule += ' --> '\n",
    "    formatted_rule += getMovieName(rule[1])\n",
    "    movie_association_rules.append(formatted_rule)"
   ]
  },
  {
   "cell_type": "markdown",
   "metadata": {},
   "source": [
    "Finally, print your final association rules in the following format:\n",
    "\n",
    "**movie_name_1, movie_name_2, ... --> movie_name_k**\n",
    "\n",
    "where the movie names can be fetched by joining the movieId with the file 'movies.dat'. For example, one rule that you should find is:\n",
    "\n",
    "**Jurassic Park (1993), Back to the Future (1985) --> Star Wars: Episode IV - A New Hope (1977)**\n"
   ]
  },
  {
   "cell_type": "code",
   "execution_count": 30,
   "metadata": {},
   "outputs": [
    {
     "name": "stdout",
     "output_type": "stream",
     "text": [
      "Jaws (1975) --> Star Wars: Episode IV - A New Hope (1977)\n",
      "Godfather: Part II, The (1974) --> Godfather, The (1972)\n",
      "Princess Bride, The (1987), Jurassic Park (1993) --> Star Wars: Episode IV - A New Hope (1977)\n",
      "Saving Private Ryan (1998), Jurassic Park (1993) --> Star Wars: Episode IV - A New Hope (1977)\n",
      "Jurassic Park (1993), Back to the Future (1985) --> Star Wars: Episode IV - A New Hope (1977)\n",
      "Star Wars: Episode IV - A New Hope (1977), Godfather: Part II, The (1974) --> Godfather, The (1972)\n",
      "Godfather, The (1972), Godfather: Part II, The (1974) --> Star Wars: Episode IV - A New Hope (1977)\n",
      "Saving Private Ryan (1998), Princess Bride, The (1987) --> Star Wars: Episode IV - A New Hope (1977)\n",
      "Princess Bride, The (1987), Back to the Future (1985) --> Star Wars: Episode IV - A New Hope (1977)\n",
      "Star Wars: Episode IV - A New Hope (1977), Princess Bride, The (1987) --> Back to the Future (1985)\n",
      "Saving Private Ryan (1998), Back to the Future (1985) --> Star Wars: Episode IV - A New Hope (1977)\n",
      "Back to the Future (1985), Schindler's List (1993) --> Star Wars: Episode IV - A New Hope (1977)\n",
      "Star Wars: Episode IV - A New Hope (1977), Groundhog Day (1993) --> Back to the Future (1985)\n",
      "Princess Bride, The (1987), Groundhog Day (1993) --> Back to the Future (1985)\n"
     ]
    }
   ],
   "source": [
    "# just the rules\n",
    "\n",
    "for rule in movie_association_rules:\n",
    "    print(rule)"
   ]
  },
  {
   "cell_type": "markdown",
   "metadata": {},
   "source": [
    "## (5 points) BONUS\n",
    "\n",
    "Finally, we'll set aside a few bonus points (like 1-5) for any improvement for the apriori algorithm, such as the SON algorithm or Toivonen’s algorithm. Specify the algorithm you are implementing, apply it to the same dataset we used above and report the results, and discuss how this algorithm is different from the conventional apriori algorithm."
   ]
  },
  {
   "cell_type": "code",
   "execution_count": 31,
   "metadata": {},
   "outputs": [],
   "source": [
    "## your code here"
   ]
  }
 ],
 "metadata": {
  "anaconda-cloud": {},
  "kernelspec": {
   "display_name": "Python 3",
   "language": "python",
   "name": "python3"
  },
  "language_info": {
   "codemirror_mode": {
    "name": "ipython",
    "version": 3
   },
   "file_extension": ".py",
   "mimetype": "text/x-python",
   "name": "python",
   "nbconvert_exporter": "python",
   "pygments_lexer": "ipython3",
   "version": "3.7.4"
  }
 },
 "nbformat": 4,
 "nbformat_minor": 1
}
