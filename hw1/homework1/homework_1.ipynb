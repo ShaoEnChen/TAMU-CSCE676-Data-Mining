{
 "cells": [
  {
   "cell_type": "markdown",
   "metadata": {},
   "source": [
    "## CSCE 676 :: Data Mining and Analysis :: Texas A&M University :: Fall 2019\n",
    "\n",
    "\n",
    "# Homework 1\n",
    "\n",
    "- **100 points [6% of your final grade]**\n",
    "- **Due Wednesday, September 18 by 11:59pm**\n",
    "\n",
    "*Goals of this homework:* There are two objectives of this homework: i) collect data from the web, clean it, and then make some observations based on exploratory data analysis; and ii) understand and implement the classic apriori algorithm to find the association rules in a movie rating dataset.\n",
    "\n",
    "*Submission instructions:* You should post your notebook to ecampus (look for the homework 1 assignment there). Please name your submission **your-uin_hw1.ipynb**, so for example, my submission would be something like **555001234_hw1.ipynb**. Your notebook should be fully executed when you submit ... so run all the cells for us so we can see the output, then submit that. "
   ]
  },
  {
   "cell_type": "markdown",
   "metadata": {},
   "source": [
    "## (10 points) Part 1a: UFOs are Out There, But First I Need to Store them Locally\n",
    "\n",
    "For this first part, we're going to collect evidence of UFO sightings from the **National UFO Reporting Center**. Specifically, we're going to focus only on UFO sightings in Texas, as reported at this webpage:\n",
    "\n",
    "* http://www.nuforc.org/webreports/ndxlTX.html\n",
    "\n",
    "Recall that you can view the source of a webpage in Chrome under View &rarr; Developer &rarr; View Source. You'll notice, however, that this raw HTML is not in our friendly csv format and so will require some initial pre-processing. In particular, we're going to use the Python libraries **[requests](http://docs.python-requests.org/en/master/)** and **[beautiful soup](https://www.crummy.com/software/BeautifulSoup/)** to convert this UFO data from its original HTML format into csv. \n",
    "\n",
    "Hints:\n",
    "* You'll notice that the column headers are in the `<TH>` tags.\n",
    "* The values are in the `<TD>` tags.\n",
    "* In beautiful soup, something like `.find_all('td')` may help you.\n",
    "* To write the csv, you might want to `import csv` and take a look at the functions provided.\n",
    "* If you google for \"beautifulsoup table to csv\" you should find some nice starting points.  Note, however, that you may not use an existing method that auto-magically converts the HTML into csv; we expect you to write your own code. If you borrow some elements from online resources, you should cite them in the comments. "
   ]
  },
  {
   "cell_type": "code",
   "execution_count": 1,
   "metadata": {},
   "outputs": [],
   "source": [
    "import numpy as np\n",
    "import requests\n",
    "from bs4 import BeautifulSoup\n",
    "import csv\n",
    "import pandas as pd\n",
    "import re\n",
    "import matplotlib.pyplot as plt\n",
    "import seaborn\n",
    "\n",
    "ufo_data_source = \"http://www.nuforc.org/webreports/ndxlTX.html\"\n",
    "ufo_data_filename = 'ufo_texas.csv'"
   ]
  },
  {
   "cell_type": "code",
   "execution_count": 2,
   "metadata": {},
   "outputs": [],
   "source": [
    "# your code here\n",
    "# you should use requests to get the webpage, then extract \n",
    "# the appropriate column headings and rows\n",
    "# then write this out to csv to a local file called 'ufo_texas.csv'\n",
    "\n",
    "# html_response = requests.get(ufo_data_source)\n",
    "# ufo_soup = BeautifulSoup(html_response.text, 'html.parser')"
   ]
  },
  {
   "cell_type": "code",
   "execution_count": 3,
   "metadata": {},
   "outputs": [],
   "source": [
    "# with open(ufo_data_filename, mode='w') as ufo_data_file:\n",
    "#     csv_writer = csv.writer(ufo_data_file)\n",
    "    \n",
    "#     headers = []\n",
    "#     rows = []\n",
    "#     row = []\n",
    "#     for th in ufo_soup.find_all('th'):\n",
    "#         headers.append(th.string)\n",
    "#     csv_writer.writerow(headers)\n",
    "    \n",
    "#     col_num = len(headers)\n",
    "#     for td in ufo_soup.find_all('td'):\n",
    "#         if len(row) < col_num:\n",
    "#             row.append(td.string)\n",
    "#         else:\n",
    "#             rows.append(row)\n",
    "#             row = [td.string]\n",
    "        \n",
    "#     for row in rows:\n",
    "#         csv_writer.writerow(row)"
   ]
  },
  {
   "cell_type": "markdown",
   "metadata": {},
   "source": [
    "Once you have your local csv file, you should read it in and then issue the .head() command."
   ]
  },
  {
   "cell_type": "code",
   "execution_count": 4,
   "metadata": {},
   "outputs": [
    {
     "data": {
      "text/html": [
       "<div>\n",
       "<style scoped>\n",
       "    .dataframe tbody tr th:only-of-type {\n",
       "        vertical-align: middle;\n",
       "    }\n",
       "\n",
       "    .dataframe tbody tr th {\n",
       "        vertical-align: top;\n",
       "    }\n",
       "\n",
       "    .dataframe thead th {\n",
       "        text-align: right;\n",
       "    }\n",
       "</style>\n",
       "<table border=\"1\" class=\"dataframe\">\n",
       "  <thead>\n",
       "    <tr style=\"text-align: right;\">\n",
       "      <th></th>\n",
       "      <th>Date / Time</th>\n",
       "      <th>City</th>\n",
       "      <th>State</th>\n",
       "      <th>Shape</th>\n",
       "      <th>Duration</th>\n",
       "      <th>Summary</th>\n",
       "      <th>Posted</th>\n",
       "    </tr>\n",
       "  </thead>\n",
       "  <tbody>\n",
       "    <tr>\n",
       "      <td>0</td>\n",
       "      <td>9/10/19 22:10</td>\n",
       "      <td>Lake Worth</td>\n",
       "      <td>TX</td>\n",
       "      <td>Light</td>\n",
       "      <td>30 seconds</td>\n",
       "      <td>Two bright objects moving in formation.</td>\n",
       "      <td>9/12/19</td>\n",
       "    </tr>\n",
       "    <tr>\n",
       "      <td>1</td>\n",
       "      <td>9/6/19 21:00</td>\n",
       "      <td>League City</td>\n",
       "      <td>TX</td>\n",
       "      <td>Formation</td>\n",
       "      <td>2 minutes</td>\n",
       "      <td>As we were heading northbound on Hobbs Road in...</td>\n",
       "      <td>9/12/19</td>\n",
       "    </tr>\n",
       "    <tr>\n",
       "      <td>2</td>\n",
       "      <td>9/5/19 07:30</td>\n",
       "      <td>Weatherford</td>\n",
       "      <td>TX</td>\n",
       "      <td>Cylinder</td>\n",
       "      <td>30 seconds</td>\n",
       "      <td>Re-entry moving W, W of Weatherford, TX.</td>\n",
       "      <td>9/12/19</td>\n",
       "    </tr>\n",
       "    <tr>\n",
       "      <td>3</td>\n",
       "      <td>9/4/19 23:00</td>\n",
       "      <td>Ozona</td>\n",
       "      <td>TX</td>\n",
       "      <td>Light</td>\n",
       "      <td>12 seconds</td>\n",
       "      <td>Light almost like a plane flying quickly above...</td>\n",
       "      <td>9/6/19</td>\n",
       "    </tr>\n",
       "    <tr>\n",
       "      <td>4</td>\n",
       "      <td>9/1/19 20:30</td>\n",
       "      <td>League City</td>\n",
       "      <td>TX</td>\n",
       "      <td>Circle</td>\n",
       "      <td>5 minutes</td>\n",
       "      <td>8-9 Orange glowing objects in single file line...</td>\n",
       "      <td>9/6/19</td>\n",
       "    </tr>\n",
       "  </tbody>\n",
       "</table>\n",
       "</div>"
      ],
      "text/plain": [
       "     Date / Time         City State      Shape    Duration  \\\n",
       "0  9/10/19 22:10   Lake Worth    TX      Light  30 seconds   \n",
       "1   9/6/19 21:00  League City    TX  Formation   2 minutes   \n",
       "2   9/5/19 07:30  Weatherford    TX   Cylinder  30 seconds   \n",
       "3   9/4/19 23:00        Ozona    TX      Light  12 seconds   \n",
       "4   9/1/19 20:30  League City    TX     Circle   5 minutes   \n",
       "\n",
       "                                             Summary   Posted  \n",
       "0            Two bright objects moving in formation.  9/12/19  \n",
       "1  As we were heading northbound on Hobbs Road in...  9/12/19  \n",
       "2           Re-entry moving W, W of Weatherford, TX.  9/12/19  \n",
       "3  Light almost like a plane flying quickly above...   9/6/19  \n",
       "4  8-9 Orange glowing objects in single file line...   9/6/19  "
      ]
     },
     "execution_count": 4,
     "metadata": {},
     "output_type": "execute_result"
    }
   ],
   "source": [
    "# your code here\n",
    "\n",
    "ufo_csv = pd.read_csv(ufo_data_filename)\n",
    "ufo_csv.head()"
   ]
  },
  {
   "cell_type": "markdown",
   "metadata": {},
   "source": [
    "## (10 points) Part 1b: UFOs are a Mess! Time to Clean Up!\n",
    "\n",
    "Okay, now we move to the fun part -- making sense of this messy data. These UFO reports are user-generated with little input validation. As a result, you will notice lots of oddities. \n",
    "\n",
    "Let's begin by focusing on the **Duration** column. As a first pass, let's make a grossly simplifying assumption -- that the only valid data is any duration that is of the form:  \n",
    "\n",
    "* 1 second\n",
    "* 2 seconds\n",
    "* ...\n",
    "* 1 minute\n",
    "* 2 minutes\n",
    "* ...\n",
    "* 1 hour\n",
    "* 2 hours \n",
    "* ...\n",
    "* 1 day\n",
    "* 2 days \n",
    "* ...\n",
    "\n",
    "That is, we will only accept positive integers followed by a space, followed by a properly spelled unit. Every other entry is invalid. For example, that means these are all invalid durations:\n",
    "\n",
    "* 1s\n",
    "* 2 min.\n",
    "* 2-3 seconds\n",
    "* 10-15min\n",
    "* 1 minute+\n",
    "* 30 minutes and longer\n",
    "* about 1.5 minutes\n",
    "\n",
    "Create a new pandas dataframe that only includes sightings with these values, **where you convert all durations into seconds**. How many total rows are there in the original dataset? How many rows in your new 'validated' dataset? Report the basic statistics of the duration in your new 'validated' dataset (report maximum, minimum, mean, and standard deviation values of duration). At last, plot a boxplot of the duration (in seconds) in your 'validated' dataset."
   ]
  },
  {
   "cell_type": "code",
   "execution_count": 5,
   "metadata": {},
   "outputs": [],
   "source": [
    "# your code here \n",
    "# filter our invalid durations\n",
    "# convert all valid durations to seconds\n",
    "\n",
    "duration_rule = '^\\d+\\s(second|minute|hour|day)s?$'\n",
    "regex_pattern = re.compile(duration_rule, re.IGNORECASE)\n",
    "\n",
    "def regex_match(row):\n",
    "    return regex_pattern.match(str(row['Duration'])) != None\n",
    "\n",
    "validated_by_durations = ufo_csv.loc[ufo_csv.apply(regex_match, axis=1)]"
   ]
  },
  {
   "cell_type": "code",
   "execution_count": 6,
   "metadata": {},
   "outputs": [
    {
     "name": "stdout",
     "output_type": "stream",
     "text": [
      "validated dataset: 2594 rows\n",
      "0       30 seconds\n",
      "1        2 minutes\n",
      "2       30 seconds\n",
      "3       12 seconds\n",
      "4        5 minutes\n",
      "           ...    \n",
      "5034     2 minutes\n",
      "5035     5 minutes\n",
      "5038    05 minutes\n",
      "5043    15 minutes\n",
      "5044    10 minutes\n",
      "Name: Duration, Length: 2594, dtype: object\n"
     ]
    }
   ],
   "source": [
    "print('validated dataset:', validated_by_durations['Duration'].size, 'rows')\n",
    "print(validated_by_durations['Duration'])"
   ]
  },
  {
   "cell_type": "code",
   "execution_count": 7,
   "metadata": {},
   "outputs": [],
   "source": [
    "def to_seconds(durations, time_unit_in_seconds):\n",
    "\n",
    "    durations_in_second = np.asarray([])\n",
    "    for d in durations:\n",
    "        split = d.split()\n",
    "        duration = float(split[0])\n",
    "        unit = split[1]\n",
    "\n",
    "        # if duration has legit unit, convert to second and add to list\n",
    "        for legit_unit in time_unit_in_seconds:\n",
    "            if bool(re.match(legit_unit, unit, re.IGNORECASE)):\n",
    "                durations_in_second = np.append(durations_in_second, duration * int(time_unit_in_seconds[legit_unit]))\n",
    "                break\n",
    "                \n",
    "    return durations_in_second"
   ]
  },
  {
   "cell_type": "code",
   "execution_count": 8,
   "metadata": {},
   "outputs": [],
   "source": [
    "time_unit_in_seconds = {\n",
    "    'second': 1,\n",
    "    'minute': 60,\n",
    "    'hour': 3600,\n",
    "    'day': 86400\n",
    "}\n",
    "\n",
    "validated_duration_seconds = to_seconds(validated_by_durations['Duration'], time_unit_in_seconds)"
   ]
  },
  {
   "cell_type": "code",
   "execution_count": 9,
   "metadata": {},
   "outputs": [
    {
     "name": "stdout",
     "output_type": "stream",
     "text": [
      "original dataset: 5045 rows\n",
      "validated durations in seconds: 2594 rows\n",
      "[ 30. 120.  30. ... 300. 900. 600.]\n"
     ]
    }
   ],
   "source": [
    "# your code here\n",
    "# total rows in original dataset\n",
    "# valid rows in your new 'validated' dataset\n",
    "\n",
    "print('original dataset:', ufo_csv['Duration'].size, 'rows')\n",
    "print('validated durations in seconds:', validated_duration_seconds.size, 'rows')\n",
    "print(validated_duration_seconds)"
   ]
  },
  {
   "cell_type": "code",
   "execution_count": 10,
   "metadata": {},
   "outputs": [
    {
     "name": "stdout",
     "output_type": "stream",
     "text": [
      "max: 345600.0 second(s)\n",
      "min: 1.0 second(s)\n",
      "mean: 1371.0389360061681 second(s)\n",
      "standard deviation: 12696.186481716264 second(s)\n"
     ]
    },
    {
     "data": {
      "image/png": "[encoded data removed]",
      "text/plain": [
       "<Figure size 432x288 with 1 Axes>"
      ]
     },
     "metadata": {},
     "output_type": "display_data"
    }
   ],
   "source": [
    "# your code here\n",
    "# report the basic statistics of duration in 'validated' dataset\n",
    "# boxplot code here\n",
    "\n",
    "print('max:', validated_duration_seconds.max(), 'second(s)')\n",
    "print('min:', validated_duration_seconds.min(), 'second(s)')\n",
    "print('mean:', validated_duration_seconds.mean(), 'second(s)')\n",
    "print('standard deviation:', validated_duration_seconds.std(), 'second(s)')\n",
    "\n",
    "seaborn.set(style='whitegrid')\n",
    "seaborn.boxplot(x=validated_duration_seconds)\n",
    "plt.show()"
   ]
  },
  {
   "cell_type": "code",
   "execution_count": 11,
   "metadata": {},
   "outputs": [
    {
     "data": {
      "image/png": "[encoded data removed]",
      "text/plain": [
       "<Figure size 432x288 with 1 Axes>"
      ]
     },
     "metadata": {},
     "output_type": "display_data"
    }
   ],
   "source": [
    "# remove outliers\n",
    "seaborn.boxplot(x=validated_duration_seconds, showfliers=False)\n",
    "plt.show()"
   ]
  },
  {
   "cell_type": "markdown",
   "metadata": {},
   "source": [
    "## (30 points) Part 1c: Can we do better?\n",
    "Interesting. But we threw away a **lot** of data. We can do better. For this part, you will do your best to clean up the durations from your original dataset. Keep in mind some initial guidelines:\n",
    "\n",
    "* If a duration has a range, use the average as its value. For example, if the duration is listed as “6-8 minutes”, you should consider the duration as “7 minutes”. (Again, you will need to eventually convert minutes into seconds).\n",
    "* If a duration has a “<” sign, you should simply ignore the “<” sign. For example if the duration is specified as “< 1 minute”, consider the duration to be “1 minute”. You should subsequently convert “1 minute” to \"60 seconds\".\n",
    "* If a duration has a “>” sign, you should simply ignore the “>” sign. \n",
    "* You should ignore any row with an empty duration.\n",
    "\n",
    "You will probably have to improvise as you go along, so **make detailed notes of what decisions you are making and why**."
   ]
  },
  {
   "cell_type": "code",
   "execution_count": 12,
   "metadata": {},
   "outputs": [],
   "source": [
    "# your code here \n",
    "# clean data \n",
    "# convert cleaned durations to seconds"
   ]
  },
  {
   "cell_type": "code",
   "execution_count": 13,
   "metadata": {},
   "outputs": [
    {
     "name": "stdout",
     "output_type": "stream",
     "text": [
      "{'second': '1', 'sec': '1', 's': '1', 'minute': '60', 'min': '60', 'm': '60', 'hour': '3600', 'hr': '3600', 'h': '3600', 'day': '86400', 'd': '86400'}\n",
      "second|sec|s|minute|min|m|hour|hr|h|day|d\n"
     ]
    }
   ],
   "source": [
    "legit_units = {\n",
    "    '1': ['second', 'sec', 's'],\n",
    "    '60': ['minute', 'min', 'm'],\n",
    "    '3600': ['hour', 'hr', 'h'],\n",
    "    '86400': ['day', 'd']\n",
    "}\n",
    "\n",
    "time_unit_in_seconds = {list_val: k for k, v in legit_units.items() for list_val in v}\n",
    "print(time_unit_in_seconds)\n",
    "\n",
    "legit_units_str = '|'.join(list(time_unit_in_seconds.keys()))\n",
    "print(legit_units_str)"
   ]
  },
  {
   "cell_type": "code",
   "execution_count": 14,
   "metadata": {},
   "outputs": [],
   "source": [
    "rules = {\n",
    "    'exact': '^[~\\s*]?(\\d+)\\s*(' + legit_units_str + ')s?$',\n",
    "    'range': '^(\\d+)\\s*(?:-|to)\\s*(\\d+)\\s*(' + legit_units_str + ')s?$',\n",
    "    'longer': '^>\\s*(\\d+)\\s*(' + legit_units_str + ')s?$',\n",
    "    'shorter': '^<\\s*(\\d+)\\s*(' + legit_units_str + ')s?$'\n",
    "}\n",
    "\n",
    "patterns = {key: re.compile(value, re.IGNORECASE) for key, value in rules.items()}"
   ]
  },
  {
   "cell_type": "code",
   "execution_count": 15,
   "metadata": {},
   "outputs": [],
   "source": [
    "# convert each duration to a format of (# unit) by the rule they match\n",
    "\n",
    "def modify_duration_by_rule_matching(row, rule, pattern_match):    \n",
    "    if rule == 'range':\n",
    "        # original format: (#a)-(#b) units\n",
    "        # convert to a format of (average(a, b) unit)\n",
    "        average_time = (float(pattern_match.group(1)) + float(pattern_match.group(2))) / 2\n",
    "        validated_duration = '%s %s' % (str(average_time), pattern_match.group(3))\n",
    "    else:\n",
    "        validated_duration = '%s %s' % (pattern_match.group(1), pattern_match.group(2))\n",
    "\n",
    "    ufo_csv.iloc[row.name]['Duration'] = validated_duration\n",
    "\n",
    "def regex_match_any(row):\n",
    "    for rule, pattern in patterns.items():\n",
    "        pattern_match = pattern.match(str(row['Duration']))\n",
    "        if pattern_match:\n",
    "            modify_duration_by_rule_matching(row, rule, pattern_match)\n",
    "            return True\n",
    "    return False"
   ]
  },
  {
   "cell_type": "code",
   "execution_count": 16,
   "metadata": {},
   "outputs": [
    {
     "name": "stdout",
     "output_type": "stream",
     "text": [
      "better validated dataset: 3685 rows\n",
      "0       30 second\n",
      "1        2 minute\n",
      "2       30 second\n",
      "3       12 second\n",
      "4        5 minute\n",
      "          ...    \n",
      "5034     2 minute\n",
      "5035     5 minute\n",
      "5038    05 minute\n",
      "5043    15 minute\n",
      "5044    10 minute\n",
      "Name: Duration, Length: 3685, dtype: object\n"
     ]
    }
   ],
   "source": [
    "better_validated_by_durations = ufo_csv.loc[ufo_csv.apply(regex_match_any, axis=1)]\n",
    "\n",
    "print('better validated dataset:', better_validated_by_durations['Duration'].size, 'rows')\n",
    "print(better_validated_by_durations['Duration'])"
   ]
  },
  {
   "cell_type": "code",
   "execution_count": 17,
   "metadata": {},
   "outputs": [
    {
     "name": "stdout",
     "output_type": "stream",
     "text": [
      "original dataset: 5045 rows\n",
      "better validated durations in second: 3685 rows\n"
     ]
    }
   ],
   "source": [
    "# your code here\n",
    "# total rows in original dataset\n",
    "# valid rows in your cleaned dataset\n",
    "\n",
    "better_validated_duration_seconds = to_seconds(better_validated_by_durations['Duration'], time_unit_in_seconds)\n",
    "\n",
    "print('original dataset:', ufo_csv['Duration'].size, 'rows')\n",
    "print('better validated durations in second:', better_validated_duration_seconds.size, 'rows')"
   ]
  },
  {
   "cell_type": "code",
   "execution_count": 18,
   "metadata": {},
   "outputs": [
    {
     "name": "stdout",
     "output_type": "stream",
     "text": [
      "max: 345600.0 second(s)\n",
      "min: 1.0 second(s)\n",
      "mean: 1186.0906377204885 second(s)\n",
      "standard deviation: 10718.02163901229 second(s)\n"
     ]
    },
    {
     "data": {
      "image/png": "[encoded data removed]",
      "text/plain": [
       "<Figure size 432x288 with 1 Axes>"
      ]
     },
     "metadata": {},
     "output_type": "display_data"
    }
   ],
   "source": [
    "# your code here\n",
    "# report the basic statistics of duration in your cleaned dataset\n",
    "# draw a boxplot for your cleaned dataset\n",
    "\n",
    "print('max:', better_validated_duration_seconds.max(), 'second(s)')\n",
    "print('min:', better_validated_duration_seconds.min(), 'second(s)')\n",
    "print('mean:', better_validated_duration_seconds.mean(), 'second(s)')\n",
    "print('standard deviation:', better_validated_duration_seconds.std(), 'second(s)')\n",
    "\n",
    "seaborn.set(style='whitegrid')\n",
    "seaborn.boxplot(x=better_validated_duration_seconds, showfliers=False)\n",
    "plt.show()"
   ]
  },
  {
   "cell_type": "markdown",
   "metadata": {},
   "source": [
    "Now, introduce your cleaning process step by step and explaine the reason behind your steps. Then, revisit your two boxplots -- for the initial \"valid\" dataset and then for your cleaned dataset. What do you observe? What differences does cleaning have? Would you imagine your downstream analyses would be affected by this cleaning step? Explain."
   ]
  },
  {
   "cell_type": "markdown",
   "metadata": {},
   "source": [
    "First, I followed the instructed cases: to only process exact, range, larger- and less-than durations values. I found only 2993 valid rows, so I took a few steps further.\n",
    "I added more possible time units to my regex patterns as people usualy use abbreviations. I yielded 3437 valid rows.\n",
    "I then removed the rule for spaces, so now I allowed data with or without spaces between numbers, symbols or the time unit. This gave me 3592 valid rows.\n",
    "Then, I worked on adding more semantic features into my regex pattern. By allowing rows with a '~' symbol before the number, I got 3630 valid rows.\n",
    "Finally, I treated 'to' and '-' equally in the duration range rule ('3 to 4 minutes' the same as '3 - 4 minutes'). Now I got 3685 valid rows.\n",
    "\n",
    "The initial valid dataset has these features:\n",
    "mean: 1371.0389360061681 second(s),\n",
    "standard deviation: 12696.186481716264 second(s),\n",
    "while the much cleaner dataset has:\n",
    "mean: 1186.0906377204885 second(s),\n",
    "standard deviation: 10718.02163901229 second(s).\n",
    "\n",
    "We might observe that both the mean and standard deviation have decreased. This makes sense as more data are processed and considered valid."
   ]
  },
  {
   "cell_type": "markdown",
   "metadata": {},
   "source": [
    "## (10 points) Part 1d: Probe This, you Alien Invaders.\n",
    "Finally, let's begin our initial analysis of the cleaned UFO dataset. In this section, we're going to do some plotting with matplotlib and draw some initial conclusions that may guide our future study of this UFO dataset. "
   ]
  },
  {
   "cell_type": "markdown",
   "metadata": {},
   "source": [
    "Question 1: Which **shapes** are most observed?"
   ]
  },
  {
   "cell_type": "code",
   "execution_count": 19,
   "metadata": {},
   "outputs": [],
   "source": [
    "# your code here\n",
    "# create a plot of shapes (your choice of what you consider the appropriate plot)"
   ]
  },
  {
   "cell_type": "markdown",
   "metadata": {},
   "source": [
    "Question 2: Do different UFO shapes have different durations?"
   ]
  },
  {
   "cell_type": "code",
   "execution_count": 20,
   "metadata": {},
   "outputs": [],
   "source": [
    "# your code here\n",
    "# create a plot of shapes/durations"
   ]
  },
  {
   "cell_type": "markdown",
   "metadata": {},
   "source": [
    "Question 3: Are there more UFO sightings in recent years than in the past?"
   ]
  },
  {
   "cell_type": "code",
   "execution_count": 21,
   "metadata": {},
   "outputs": [],
   "source": [
    "# your code here\n",
    "# you might want to bucket the sightings into years\n",
    "# or perhaps you have some other ideas. we are flexible."
   ]
  },
  {
   "cell_type": "markdown",
   "metadata": {},
   "source": [
    "Question 4: Based on your observations and analyses, what are some important next steps we should take?"
   ]
  },
  {
   "cell_type": "markdown",
   "metadata": {},
   "source": [
    "`Discussion: Add your discussion here`"
   ]
  },
  {
   "cell_type": "markdown",
   "metadata": {},
   "source": [
    "## (40 points) Part 2: Association Rules in Movie Rating Behaviors\n",
    "In this part, we are going to leave the study of UFOs behind us. Now we are going to examine movies using our understanding of association rules. For this part, you need to implement the apriori algorithm, and apply it to a movie rating dataset to find association rules of user movie rating behaviors. First, run the next cell to load the dataset we are going to use."
   ]
  },
  {
   "cell_type": "code",
   "execution_count": 22,
   "metadata": {},
   "outputs": [
    {
     "data": {
      "text/html": [
       "<div>\n",
       "<style scoped>\n",
       "    .dataframe tbody tr th:only-of-type {\n",
       "        vertical-align: middle;\n",
       "    }\n",
       "\n",
       "    .dataframe tbody tr th {\n",
       "        vertical-align: top;\n",
       "    }\n",
       "\n",
       "    .dataframe thead th {\n",
       "        text-align: right;\n",
       "    }\n",
       "</style>\n",
       "<table border=\"1\" class=\"dataframe\">\n",
       "  <thead>\n",
       "    <tr style=\"text-align: right;\">\n",
       "      <th></th>\n",
       "      <th>userId</th>\n",
       "      <th>movieId</th>\n",
       "    </tr>\n",
       "  </thead>\n",
       "  <tbody>\n",
       "    <tr>\n",
       "      <td>0</td>\n",
       "      <td>1</td>\n",
       "      <td>2160</td>\n",
       "    </tr>\n",
       "    <tr>\n",
       "      <td>1</td>\n",
       "      <td>1</td>\n",
       "      <td>2312</td>\n",
       "    </tr>\n",
       "    <tr>\n",
       "      <td>2</td>\n",
       "      <td>1</td>\n",
       "      <td>144</td>\n",
       "    </tr>\n",
       "    <tr>\n",
       "      <td>3</td>\n",
       "      <td>1</td>\n",
       "      <td>480</td>\n",
       "    </tr>\n",
       "    <tr>\n",
       "      <td>4</td>\n",
       "      <td>2</td>\n",
       "      <td>2160</td>\n",
       "    </tr>\n",
       "  </tbody>\n",
       "</table>\n",
       "</div>"
      ],
      "text/plain": [
       "   userId  movieId\n",
       "0       1     2160\n",
       "1       1     2312\n",
       "2       1      144\n",
       "3       1      480\n",
       "4       2     2160"
      ]
     },
     "execution_count": 22,
     "metadata": {},
     "output_type": "execute_result"
    }
   ],
   "source": [
    "# First load the dataset\n",
    "movie_rating_df = pd.read_csv('./movie_rated.csv')\n",
    "movie_rating_df.head()"
   ]
  },
  {
   "cell_type": "markdown",
   "metadata": {},
   "source": [
    "In this dataset, there are two columns: userId is the integer ids of users, and movieId is the integer ids of movies. Each row denotes that the user of given userId rated the movie of the given movieId. We are going to treat each user as a \"basket\", so you will need to collect all the movies that have been rated by a single user as a basket. \n",
    "\n",
    "Now, you need to implement the apriori algorithm and apply it to this dataset to find association rules of user rating behaviors with **minimum support of 0.2** and **minimum confidence of 0.8**. We know there are many existing implementations of apriori online (check github for some good starting points). You are welcome to read existing codebases and let that inform your approach. Do not copy-paste any existing code. We want your code to have sufficient comments to explain your steps, to show us that you really know what you are doing. Furthermore, you should add print statements to print out the intermediate steps of your method -- e.g., the size of the candidate set at each step of the method, the size of the filtered set, and any other important information you think will highlight the method. "
   ]
  },
  {
   "cell_type": "code",
   "execution_count": 23,
   "metadata": {},
   "outputs": [],
   "source": [
    "# your code here, including all the helpful print statements\n",
    "# when you run this block, we want to see all of your intermediate steps\n",
    "# you can save the rules you discover for printing in the following cells (this will help us grade by\n",
    "# keeping these separate)"
   ]
  },
  {
   "cell_type": "markdown",
   "metadata": {},
   "source": [
    "Finally, print your final association rules in the following format:\n",
    "\n",
    "**movie_name_1, movie_name_2, ... --> movie_name_k**\n",
    "\n",
    "where the movie names can be fetched by joining the movieId with the file 'movies.dat'. For example, one rule that you should find is:\n",
    "\n",
    "**Jurassic Park (1993), Back to the Future (1985) --> Star Wars: Episode IV - A New Hope (1977)**\n"
   ]
  },
  {
   "cell_type": "code",
   "execution_count": 24,
   "metadata": {},
   "outputs": [],
   "source": [
    "# just the rules"
   ]
  },
  {
   "cell_type": "markdown",
   "metadata": {},
   "source": [
    "## (5 points) BONUS\n",
    "\n",
    "Finally, we'll set aside a few bonus points (like 1-5) for any improvement for the apriori algorithm, such as the SON algorithm or Toivonen’s algorithm. Specify the algorithm you are implementing, apply it to the same dataset we used above and report the results, and discuss how this algorithm is different from the conventional apriori algorithm."
   ]
  },
  {
   "cell_type": "code",
   "execution_count": 25,
   "metadata": {},
   "outputs": [],
   "source": [
    "## your code here"
   ]
  }
 ],
 "metadata": {
  "anaconda-cloud": {},
  "kernelspec": {
   "display_name": "Python 3",
   "language": "python",
   "name": "python3"
  },
  "language_info": {
   "codemirror_mode": {
    "name": "ipython",
    "version": 3
   },
   "file_extension": ".py",
   "mimetype": "text/x-python",
   "name": "python",
   "nbconvert_exporter": "python",
   "pygments_lexer": "ipython3",
   "version": "3.7.4"
  }
 },
 "nbformat": 4,
 "nbformat_minor": 1
}
