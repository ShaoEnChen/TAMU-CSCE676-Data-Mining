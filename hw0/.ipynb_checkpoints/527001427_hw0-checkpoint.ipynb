{
 "cells": [
  {
   "cell_type": "markdown",
   "metadata": {},
   "source": [
    "#### CSCE 676 :: Data Mining and Analysis :: Texas A&M University :: Fall 2019\n",
    "\n",
    "\n",
    "# Homework 0: Let's get it started\n",
    "\n",
    "- **100 points [1% of your final grade]**\n",
    "- **Due Monday, September 2 by 11:59pm**\n",
    "\n",
    "*Goals of this homework:* The objective of this homework is to prepare your development environment, get familiar with iPython in a Jupyter notebook, and then do some beginning exercises.\n",
    "\n",
    "*Submission instructions:* You should post your notebook to ecampus (look for the homework 0 assignment there). Please name your submission **your-uin_hw0.ipynb**, so for example, my submission would be something like **555001234_hw0.ipynb**. Your notebook should be fully executed when you submit ... so run all the cells for us so we can see the output, then submit that.\n",
    "\n",
    "*Grading:* This is a stress-free homework. For this starter homework, we will only check that you have submitted a notebook with at least some code to ecampus. We will not check for completeness or correctness. Basically, do your best and submit = 100."
   ]
  },
  {
   "cell_type": "markdown",
   "metadata": {},
   "source": [
    "## iPython, Python, and our Expectations\n",
    "\n",
    "This homework and all subsequent homeworks will use iPython in a Jupyter notebook. iPython is just an interactive shell for programming in the Python language. A few years ago, the developers created a generic interactive shell called Jupyter that supports languages beyond just Python. This can be a bit confusing, and we'll add a bit to the confusion by referring to iPython and Jupyter interchangeably in this course.\n",
    "\n",
    "With respect to Python, we do not expect you to have any prior experience. We do, however, expect you to have proficiency in some programming language (so you've seen loops, conditionals, functions, etc.) and a willingness to experiment and learn on your own. Python is a fun language and you should be able to pick up the necessary portions as we move along; however, this may require you to spend some extra cycles consulting online documentation, referring to a Python book, or scouring over StackOverflow. \n",
    "\n",
    "A few basic Python pointers:\n",
    "* http://introtopython.org\n",
    "* http://ricardoduarte.github.io/python-for-developers/\n",
    "* http://mbakker7.github.io/exploratory_computing_with_python/ [particularly the basic Python language ones]\n",
    "\n",
    "We expect your code to be well-documented with appropriate comments. We prefer meaningful variable names and function names. We also expect your code to be compact and sensible -- no super-long lines, nor dense unintelligible lines of code.\n",
    "\n",
    "Note that in this course we will use Python 3.7.\n",
    "\n",
    "In general, Python code is often run from standalone Python modules or files; for this class, we will often run Python from here within the iPython notebook.\n",
    "\n",
    "Now that you're ready, let's take a look at this iPython notebook. You'll notice that it is composed of cells. Some cells have text (like this one), while others contain code and comments. This cell is written in **Markdown** a simple text-to-HTML language. You can find a cheat sheet for Markdown here: https://github.com/adam-p/markdown-here/wiki/Markdown-Cheatsheet. You can toggle a cell between Markdown and code with the toggle button up there on the menu bar.\n",
    "\n",
    "The cell below contains code and can be **executed** by hitting the **Play** button on the menu bar or by hitting **shift + enter**."
   ]
  },
  {
   "cell_type": "code",
   "execution_count": 1,
   "metadata": {},
   "outputs": [
    {
     "name": "stdout",
     "output_type": "stream",
     "text": [
      "Hello world!\n"
     ]
    }
   ],
   "source": [
    "# this is a comment\n",
    "# you can execute this cell by hitting shift+enter\n",
    "# the output will appear immediately below\n",
    "print('Hello world!')"
   ]
  },
  {
   "cell_type": "markdown",
   "metadata": {},
   "source": [
    "Since iPython is just an interactive shell around Python, you can define functions. For example:"
   ]
  },
  {
   "cell_type": "code",
   "execution_count": 2,
   "metadata": {},
   "outputs": [
    {
     "data": {
      "text/plain": [
       "27"
      ]
     },
     "execution_count": 2,
     "metadata": {},
     "output_type": "execute_result"
    }
   ],
   "source": [
    "def cubed(x):\n",
    "    \"\"\" Return the cube of a  \n",
    "        value \"\"\"\n",
    "    return x ** 3\n",
    "\n",
    "cubed(3)"
   ]
  },
  {
   "cell_type": "markdown",
   "metadata": {},
   "source": [
    "You can even access the filesystem with commands like `ls` or `pwd`:"
   ]
  },
  {
   "cell_type": "code",
   "execution_count": 3,
   "metadata": {},
   "outputs": [
    {
     "name": "stdout",
     "output_type": "stream",
     "text": [
      "/Users/seanchen/Desktop/CSCE676 Data Mining\n",
      "homework_0.ipynb sample.txt\n"
     ]
    }
   ],
   "source": [
    "!pwd\n",
    "!ls"
   ]
  },
  {
   "cell_type": "markdown",
   "metadata": {},
   "source": [
    "## Getting Started with Numpy and matplotlib\n",
    "\n",
    "In this part, we're going to get familiar with two important libraries -- Numpy and matplotlib.\n",
    "\n",
    "### Into to Numpy\n",
    "Since Python is an interpreted language, it might not seem like the best choice for data-intensive work. Luckily, almost all of our data workflow stack is built on top of Numpy, a Python library that adds support for large, multi-dimensional arrays and matrices, along with a large library of high-level mathematical functions to operate on these arrays."
   ]
  },
  {
   "cell_type": "code",
   "execution_count": 4,
   "metadata": {},
   "outputs": [
    {
     "name": "stdout",
     "output_type": "stream",
     "text": [
      "Make a 4 row x 2 column matrix of random numbers\n",
      "[[0.65320829 0.47654821]\n",
      " [0.63411316 0.54932384]\n",
      " [0.05915535 0.82821938]\n",
      " [0.10640643 0.74122974]]\n",
      "\n",
      "Add 10 to every element\n",
      "[[10.65320829 10.47654821]\n",
      " [10.63411316 10.54932384]\n",
      " [10.05915535 10.82821938]\n",
      " [10.10640643 10.74122974]]\n",
      "\n",
      "Get the element at row 3, column 1\n",
      "10.741229737009352\n",
      "\n",
      "Get the first row\n",
      "[10.65320829 10.47654821]\n",
      "\n",
      "Get the first two rows\n",
      "[[10.65320829 10.47654821]\n",
      " [10.63411316 10.54932384]]\n"
     ]
    }
   ],
   "source": [
    "import numpy as np\n",
    "\n",
    "print(\"Make a 4 row x 2 column matrix of random numbers\")\n",
    "x = np.random.random((4, 2))\n",
    "print(x)\n",
    "print()\n",
    "\n",
    "print(\"Add 10 to every element\")\n",
    "x = x + 10\n",
    "print(x)\n",
    "print()\n",
    "\n",
    "print(\"Get the element at row 3, column 1\")\n",
    "print(x[3, 1])\n",
    "print()\n",
    "\n",
    "print(\"Get the first row\")\n",
    "print(x[0, :])\n",
    "print()\n",
    "\n",
    "print(\"Get the first two rows\")\n",
    "print(x[:2])"
   ]
  },
  {
   "cell_type": "markdown",
   "metadata": {},
   "source": [
    "Now, it's your turn. Find the maximum, minimum, and mean of the array. This does not require writing a loop. In the code cell below, type `x.m<TAB>`, to find built-in operations that may help you out."
   ]
  },
  {
   "cell_type": "code",
   "execution_count": 5,
   "metadata": {},
   "outputs": [
    {
     "name": "stdout",
     "output_type": "stream",
     "text": [
      "Get the maximum of x\n",
      "10.828219376433173\n",
      "\n",
      "Get the minimum of x\n",
      "10.059155348995\n",
      "\n",
      "Get the mean of x\n",
      "10.506025549078526\n"
     ]
    }
   ],
   "source": [
    "x_max = x.max()\n",
    "x_min = x.min()\n",
    "x_mean = x.mean()\n",
    "\n",
    "print(\"Get the maximum of x\")\n",
    "print(x_max)\n",
    "print()\n",
    "\n",
    "print(\"Get the minimum of x\")\n",
    "print(x_min)\n",
    "print()\n",
    "\n",
    "print(\"Get the mean of x\")\n",
    "print(x_mean)"
   ]
  },
  {
   "cell_type": "markdown",
   "metadata": {},
   "source": [
    "That wasy easy! Now, let's see if you can generate 500 numbers from a uniform distribution between 0 and 10,000, inclusive. That is each random number could be 0, 1, 2, ..., 10,000 with equal chance. What is the maximum, minimum, and mean of these 500 random numbers? *Hint: take a look at np.random* "
   ]
  },
  {
   "cell_type": "code",
   "execution_count": 6,
   "metadata": {},
   "outputs": [
    {
     "name": "stdout",
     "output_type": "stream",
     "text": [
      "[6631 1924 6586 5828 4134 5743 1030 4818 6575 2663 7319 7883 3203 6226\n",
      "  104 2272 6810 4601 5401  752 8981 3740 8954 6646   19 3188 1197 9988\n",
      " 8607 8092  952 5793 6932 2476 7520 7518 3609 3504 7967 6174 9828 7199\n",
      " 5656 2555 6671 6630 3992 5456 6398 7706 9918 2175 2621 3247 9368 2769\n",
      " 5140 3809 1768 7182 2456 9838 1334 5886 9815 2659  847 9541 4404 9599\n",
      " 7022 6419  266 4903   52 5714 7308 4331 8501 9951 3956 8125 3202 7566\n",
      " 8567 3753 2753 9175  607 3942 2351 6862 9696 5226 1167 5692 9699 8752\n",
      " 7449 6612 2649  423 2603 8386 1646 3590 4388  590  203 9997 6203 6390\n",
      " 3826 6176 2344 3216  874 4184 7325  969 2138 3136 6005 3740 5582 6055\n",
      " 7526 6111  564  731 2249 2362 6980 8441 9540 7187 1708 3553 8023 3492\n",
      " 1254 2064 7449 6073 2536 2227 1781 5185 5945 4196 2802 5516 3228 1029\n",
      " 5946 7288 4594 5678 1413 4982 1092 2257 4666 2506 3650 8486 5031 5102\n",
      " 4017 4300 3887 3654 2801 2881  180 1215 2833  549 3318 4392 8194 5736\n",
      " 7190  672 3434 6175 3513 2642 4454 2254 7885 2257 4626 7780 9660 4531\n",
      "  384 4885  462 6041 7716 5653 4033 6521 5858 9737 4069 5014 8668 9521\n",
      " 8954 2089 3932 2910   36 3524 2284 4303 5043 4734 6778  184 2050  640\n",
      " 1723  722 3299 6614 2958 7282 1011 5917  811 8924 3385 6472 5650  185\n",
      " 6488 2070 3008 6910 8494 7745 6236 1407 5143  187 5598 3538 1397 5973\n",
      " 4384 6958 5061 7235 4435 1726 2452 5775 7915 6261 3486 7809 4512 9819\n",
      " 7739 1328 4237  548 7388 8381 3060 8146  348 1813 5329 6981 4668 6204\n",
      " 9363 2154 8785 9833 9331  610 8753 3213  455 4106 9245  774 5616 7419\n",
      " 8005 4173 4337 1400 3617  727 7771 8582 7204 9190 4054 2560 1797 5867\n",
      " 7753 8011 3151 3058 9519  254 2460 8755 2067 6768 8564 2468 3517 3645\n",
      " 3673 3284 3254 9946 2408  375 1778 2167 3569 7912 3932 2420 3287 9725\n",
      " 1553 5393 8117  158 6529 9037 2984  457  634 2099 1298 8106 4295 6199\n",
      " 1670 1819 4388  115 8520 6634 7750 5457 3935 7139  486  667 7103 6564\n",
      " 5703    4 7966 2765 6165 7521 8363 5357 4930 1282 4936 4128 9809 6257\n",
      " 7695 3658 4770 5958  534 8442 9244 4395 8442 1265 4158 1601 6561 3166\n",
      " 1635 2436 7883 7800 5562 8398 5744  451  992 2095 9500 1889 2643 9855\n",
      " 3834   22  445 2089 3674 9221 7935 7430 4550  392 6641 9128  585 6237\n",
      " 3105 8469 8699 9607 1786 7898 5383 4903 3442 6102 9786 1970 1154 1383\n",
      " 9334 1049 3617 2705 1391 1831 8508 4221  408 4283 2223 2782 8833 1271\n",
      " 5973 6956 2971 7836 7779 2306 8348 8843 7100 5044 7086 5666 6468 4786\n",
      " 6071 3630 3471 5105 2410 6239 3497 2186 7967 2877 2019 6202 2412 6706\n",
      " 6687 3908 1694  213 9027 8628 3301 9613 7455 1793 4997 7264 7196 6275\n",
      " 1239 5518 5514 2418 2798 4960 5017 9638 9968 2090]\n"
     ]
    }
   ],
   "source": [
    "rands = np.random.randint(0, 10001, 500)\n",
    "print(rands)"
   ]
  },
  {
   "cell_type": "markdown",
   "metadata": {},
   "source": [
    "### Intro to matplotlib\n",
    "The most widespread Python plotting library is matplotlib. With it, you can create graphs, charts, basic maps, and other data visualizations. Later in the semester, we'll use `seaborn`, a library built on top of matplotlib that provides even more beautiful charts.\n",
    "\n",
    "Below, we provide some simple x and y coordinates that are then plotted. You should update the plot to include:\n",
    "* a label for the x-axis (call it 'X-axis')\n",
    "* a label for the y-axis (call it 'Y-axis')\n",
    "* a label for the x, y1 curve (call it 'Alice')\n",
    "* a label for the x, y2 curve (call it 'Bob')\n",
    "* a legend in the lower right corner"
   ]
  },
  {
   "cell_type": "code",
   "execution_count": 7,
   "metadata": {},
   "outputs": [
    {
     "data": {
      "image/png": "[encoded data removed]",
      "text/plain": [
       "<Figure size 432x288 with 1 Axes>"
      ]
     },
     "metadata": {
      "needs_background": "light"
     },
     "output_type": "display_data"
    }
   ],
   "source": [
    "# this line prepares IPython for working with matplotlib\n",
    "%matplotlib inline  \n",
    "\n",
    "import matplotlib.pyplot as plt  \n",
    "\n",
    "x = [0, 1, 2, 3, 4]  \n",
    "y1 = [10, 12, 10, 10, 12]\n",
    "y2 = [8, 9, 9, 11, 12]\n",
    "plt.plot(x, y1, label=\"Alice\")\n",
    "plt.plot(x, y2, label=\"Bob\")\n",
    "plt.xlabel(\"X-axis\")\n",
    "plt.ylabel(\"Y-axis\")\n",
    "plt.legend(loc=\"lower right\")\n",
    "plt.show()"
   ]
  },
  {
   "cell_type": "markdown",
   "metadata": {},
   "source": [
    "## Python Data Structures\n",
    "Here we introduce some of the popular built-in data structures in Python: list, set and dictionary.\n",
    "#### List"
   ]
  },
  {
   "cell_type": "code",
   "execution_count": 8,
   "metadata": {},
   "outputs": [
    {
     "name": "stdout",
     "output_type": "stream",
     "text": [
      "Add item 7 to the list\n",
      "[1, 5, 6, 3, 4, 0, 7]\n",
      "\n",
      "Remove item 4 from the list\n",
      "[1, 5, 6, 3, 0, 7]\n",
      "\n",
      "Insert item 3 at a position 2\n",
      "[1, 5, 3, 6, 3, 0, 7]\n"
     ]
    }
   ],
   "source": [
    "x=[1, 5, 6, 3, 4, 0]\n",
    "print('Add item 7 to the list')\n",
    "x.append(7)\n",
    "print(x)\n",
    "print()\n",
    "\n",
    "print('Remove item 4 from the list')\n",
    "x.remove(4)\n",
    "print(x)\n",
    "print()\n",
    "\n",
    "print('Insert item 3 at a position 2')\n",
    "x.insert(2,3)\n",
    "print(x)"
   ]
  },
  {
   "cell_type": "markdown",
   "metadata": {},
   "source": [
    "Now, it's your turn. Sort the list and then reverse the list. In the code cell below, type x.<TAB>, to find built-in operations that may help you out."
   ]
  },
  {
   "cell_type": "code",
   "execution_count": 9,
   "metadata": {},
   "outputs": [
    {
     "name": "stdout",
     "output_type": "stream",
     "text": [
      "[0, 1, 3, 3, 5, 6, 7]\n",
      "\n",
      "[7, 6, 5, 3, 3, 1, 0]\n"
     ]
    }
   ],
   "source": [
    "x.sort()\n",
    "print(x)\n",
    "print()\n",
    "\n",
    "x.reverse()\n",
    "print(x)"
   ]
  },
  {
   "cell_type": "markdown",
   "metadata": {},
   "source": [
    "#### Set \n",
    "A set is an unordered collection with no duplicate elements."
   ]
  },
  {
   "cell_type": "code",
   "execution_count": 10,
   "metadata": {},
   "outputs": [
    {
     "name": "stdout",
     "output_type": "stream",
     "text": [
      "{'c', 1, 2, 'a'}\n",
      "{'d', 'c', 4, 5}\n",
      "\n",
      "Check if item a is in set s1\n",
      "True\n",
      "\n",
      "return union of s1 and s2\n",
      "{'c', 1, 2, 4, 5, 'd', 'a'}\n",
      "\n",
      "return intersection of s1 and s2\n",
      "{'c'}\n",
      "\n"
     ]
    }
   ],
   "source": [
    "s1=set([1,2,'a','c'])\n",
    "s2=set([4,5,'d','c'])\n",
    "print(s1)\n",
    "print(s2)\n",
    "print()\n",
    "\n",
    "print('Check if item a is in set s1')\n",
    "print('a' in s1)\n",
    "print()\n",
    "\n",
    "print('return union of s1 and s2')\n",
    "print(s1.union(s2))\n",
    "print()\n",
    "\n",
    "print('return intersection of s1 and s2')\n",
    "print(s1.intersection(s2))\n",
    "print()"
   ]
  },
  {
   "cell_type": "markdown",
   "metadata": {},
   "source": [
    "Now it's your turn to try out .add(), .remove(), .issubset() and .issuperset() built-in operations and report the results. "
   ]
  },
  {
   "cell_type": "code",
   "execution_count": 11,
   "metadata": {},
   "outputs": [
    {
     "name": "stdout",
     "output_type": "stream",
     "text": [
      "{'c', 1, 2, 4, 5, 'a'}\n",
      "\n",
      "{'c', 4, 5}\n",
      "\n",
      "s1 is subset of s2?  False\n",
      "s2 is subset of s1?  True\n",
      "\n",
      "s1 is superset of s2?  True\n",
      "s2 is superset of s1?  False\n"
     ]
    }
   ],
   "source": [
    "s1.add(4)\n",
    "s1.add(5)\n",
    "print(s1)\n",
    "print()\n",
    "\n",
    "s2.remove('d')\n",
    "print(s2)\n",
    "print()\n",
    "\n",
    "print(\"s1 is subset of s2? \", s1.issubset(s2))\n",
    "print(\"s2 is subset of s1? \", s2.issubset(s1))\n",
    "print()\n",
    "\n",
    "print(\"s1 is superset of s2? \", s1.issuperset(s2))\n",
    "print(\"s2 is superset of s1? \", s2.issuperset(s1))"
   ]
  },
  {
   "cell_type": "markdown",
   "metadata": {},
   "source": [
    "#### Dictionary\n",
    "Unlike sequential data structures, which are indexed by a range of numbers, dictionaries are indexed by keys, which can be any type like strings and numbers.\n"
   ]
  },
  {
   "cell_type": "code",
   "execution_count": 12,
   "metadata": {},
   "outputs": [
    {
     "name": "stdout",
     "output_type": "stream",
     "text": [
      "{'fruit': ['apple', 'orange'], 'animal': ['cat', 'dog']}\n",
      "\n",
      "add food with value of soup\n",
      "{'fruit': ['apple', 'orange'], 'animal': ['cat', 'dog'], 'food': ['soup']}\n",
      "\n",
      "add value of banana into fruit\n",
      "{'fruit': ['apple', 'orange', 'banana'], 'animal': ['cat', 'dog'], 'food': ['soup']}\n"
     ]
    }
   ],
   "source": [
    "dic = {'fruit': ['apple', 'orange'], 'animal': ['cat', 'dog']}\n",
    "print(dic)\n",
    "print()\n",
    "\n",
    "print('add food with value of soup')\n",
    "dic['food']=['soup']\n",
    "print(dic)\n",
    "print()\n",
    "\n",
    "print('add value of banana into fruit')\n",
    "dic['fruit'].append('banana')\n",
    "print(dic)\n"
   ]
  },
  {
   "cell_type": "markdown",
   "metadata": {},
   "source": [
    "Create a dictionary where the keys are integer numbers from 0 to 10 and the corresponding values are the square of the key value.  "
   ]
  },
  {
   "cell_type": "code",
   "execution_count": 13,
   "metadata": {},
   "outputs": [
    {
     "name": "stdout",
     "output_type": "stream",
     "text": [
      "{0: 0, 1: 1, 2: 4, 3: 9, 4: 16, 5: 25, 6: 36, 7: 49, 8: 64, 9: 81, 10: 100}\n"
     ]
    }
   ],
   "source": [
    "num_dict = {}\n",
    "\n",
    "for i in range(11):\n",
    "    num_dict[i] = i ** 2\n",
    "    \n",
    "print(num_dict)"
   ]
  },
  {
   "cell_type": "markdown",
   "metadata": {},
   "source": [
    "## Getting started with File Input & Output\n",
    "\n",
    "Python can easily handle reading and writing files. As far as Python is concerned, a file is just a string (often very large!) stored on your local file system, that you can read or write, gradually or all together.\n",
    "\n",
    "### Writing Files\n",
    "\n",
    "*open()* returns a file object, and is most commonly used with two arguments: *open(filename, mode)*."
   ]
  },
  {
   "cell_type": "code",
   "execution_count": 14,
   "metadata": {},
   "outputs": [],
   "source": [
    "outFile = open('sample.txt', 'w')\n",
    "outFile.write('The first line\\nThe second line\\nThe third line\\n')\n",
    "outFile.close()"
   ]
  },
  {
   "cell_type": "markdown",
   "metadata": {},
   "source": [
    "The first line creates a file object, which links Python to your computer’s file system. The first parameter in the file constructor gives the file name, *sample.txt*. The second parameter indicates how you use the file. The 'w' is short for **w**rite. If the file already existed, the old contents are destroyed.\n",
    "\n",
    "And 'a' opens the file for **a**ppending; any data written to the file is automatically added to the end. 'r+' opens the file for both reading and writing.\n",
    "\n",
    "The *close* line is essential for Python to make sure everything is really written, and to relinquish control of the file."
   ]
  },
  {
   "cell_type": "markdown",
   "metadata": {},
   "source": [
    "### Methods of File Objects\n",
    "\n",
    "To read a file’s contents, call *f.read(size)*, which reads some quantity of data and returns it as a string. *size* is an optional numeric argument. When *size* is omitted or negative, the entire contents of the file will be read and returned."
   ]
  },
  {
   "cell_type": "code",
   "execution_count": 15,
   "metadata": {},
   "outputs": [
    {
     "data": {
      "text/plain": [
       "'The first line\\nThe second line\\nThe third line\\n'"
      ]
     },
     "execution_count": 15,
     "metadata": {},
     "output_type": "execute_result"
    }
   ],
   "source": [
    "outFile = open('sample.txt', 'r')\n",
    "outFile.read()"
   ]
  },
  {
   "cell_type": "markdown",
   "metadata": {},
   "source": [
    "For reading lines from a file, you can loop over the file object. This is memory efficient, fast, and leads to simple code:"
   ]
  },
  {
   "cell_type": "code",
   "execution_count": 16,
   "metadata": {},
   "outputs": [
    {
     "name": "stdout",
     "output_type": "stream",
     "text": [
      "The first line\n",
      "The second line\n",
      "The third line\n"
     ]
    }
   ],
   "source": [
    "outFile = open('sample.txt', 'r')\n",
    "for line in outFile:\n",
    "    print(line, end='')"
   ]
  },
  {
   "cell_type": "markdown",
   "metadata": {},
   "source": [
    "It is good practice to use the *with* keyword when dealing with file objects. This has the advantage that the file is properly closed after its suite finishes, even if an exception is raised on the way. It is also much shorter than writing equivalent try-finally blocks:"
   ]
  },
  {
   "cell_type": "code",
   "execution_count": 17,
   "metadata": {},
   "outputs": [
    {
     "data": {
      "text/plain": [
       "'The first line\\nThe second line\\nThe third line\\n'"
      ]
     },
     "execution_count": 17,
     "metadata": {},
     "output_type": "execute_result"
    }
   ],
   "source": [
    "with open('sample.txt', 'r') as f:\n",
    "    outFile = f.read()\n",
    "outFile"
   ]
  },
  {
   "cell_type": "code",
   "execution_count": 18,
   "metadata": {},
   "outputs": [
    {
     "data": {
      "text/plain": [
       "True"
      ]
     },
     "execution_count": 18,
     "metadata": {},
     "output_type": "execute_result"
    }
   ],
   "source": [
    "f.closed"
   ]
  },
  {
   "cell_type": "code",
   "execution_count": 19,
   "metadata": {},
   "outputs": [],
   "source": [
    "with open('sample.txt', 'a') as f:\n",
    "    f.write('The fourth line\\n')"
   ]
  },
  {
   "cell_type": "code",
   "execution_count": 20,
   "metadata": {},
   "outputs": [
    {
     "name": "stdout",
     "output_type": "stream",
     "text": [
      "['The first line\\n', 'The second line\\n', 'The third line\\n', 'The fourth line\\n']\n"
     ]
    }
   ],
   "source": [
    "with open('sample.txt', 'r') as f:\n",
    "    print(f.readlines())  # readlines – reads the entire file and returns it as a list of strings"
   ]
  },
  {
   "cell_type": "markdown",
   "metadata": {},
   "source": [
    "### Open a Remote File via URL\n",
    "\n",
    "Python can easily access the content of a webpage via its URL, and print out locally line-by-line without saving a local copy of the file. "
   ]
  },
  {
   "cell_type": "code",
   "execution_count": 21,
   "metadata": {
    "scrolled": true
   },
   "outputs": [
    {
     "name": "stdout",
     "output_type": "stream",
     "text": [
      "<html><head> <TITLE>CSCE 676 :: Data Mining and Analysis :: Fall 2019</TITLE> </head>\n",
      "\n",
      "<body bgcolor=white text=black link=blue vlink=blue alink=blue>\n",
      "\n",
      "\n",
      "<h1> CSCE 676 :: Data Mining and Analysis :: Fall 2019 </h1> \n",
      "\n",
      "<dt>MWF 9:10-10:00am in HRBB 113</dt>\n",
      "\n",
      "<br/>\n",
      "<dt> Instructor: <a href=\"http://faculty.cse.tamu.edu/caverlee/\">James Caverlee</a>,\n",
      "HRBB 425H <dt> Office Hours: 10-11am Monday and 3-4pm Wednesday \n",
      "<dt>\n",
      "Department of <a href=\"http://www.cse.tamu.edu\">Computer Science and\n",
      "Engineering</a> <dt> <a href=\"http://www.tamu.edu\">Texas A&amp;M\n",
      "University</a>\n",
      "<dt><br/>\n",
      "<dt> TA: <a href=\"http://people.tamu.edu/~zhuziwei/\">Ziwei Zhu</a>\n",
      "<dt> Office Hours: 3-4pm on Tuesday and Thursday in HRBB 408A\n",
      "\n",
      "<dt>\n",
      "\n",
      "<p><a href=\"schedule.html\">Course Schedule</a> :: <a href=\"project.html\">Project</a> \n",
      "\n",
      "<hr>\n",
      "<H3><A NAME = \"summary\">Course Summary</a></H3> \n",
      "<P>\n",
      "\n",
      "<P> This course is a broad overview of data mining, integrating related concepts from machine learning and statistics; exploratory data analysis, pattern mining, clustering and classification; applications to scientific and online data. \n",
      "\n",
      "By the end of the semester you will be able to: \n",
      "\n",
      "<ul>\n",
      "<li>Define and explain the key concepts and models relevant to data mining and analysis, including data preparation, normalization, dimensionality reduction, text mining, data visualization, and so on. \n",
      "\n",
      "<li>Design, implement, and evaluate data mining algorithms like associate rules, clustering, anomaly detection, and do so on modern scalable cloud computing platforms (e.g., Spark).\n",
      "\n",
      "<li>Identify the salient features and apply recent research results in data mining, including topics such as fairness, graph mining, and large-scale mining.\n",
      "\n",
      "</ul>\n",
      "\n",
      "<hr>\n",
      "<H3><A NAME = \"comm\">Communication</a></H3> \n",
      "<P> All course communication will be via <a href=\"https://piazza.com/tamu/fall2019/csce676\">Piazza</a>.  We will post often to Piazza, so you should plan to check it often (every day). \n",
      "\n",
      "\n",
      "<hr>\n",
      "<H3><A NAME = \"prereq\">Prerequisites</a></H3> \n",
      "<P> I expect all students to have had some previous exposure to basic probability, statistics, algorithms, and data structures. You should be able to design and develop large programs and learn new software libraries on your own.\n",
      "\t\n",
      "<hr>\n",
      "<H3><A NAME = \"textbooks\">Textbooks</a></H3> \n",
      "<P> We will read some selections from:\n",
      "\n",
      "<ul>\n",
      "<li> MMDS: <i>Mining of Massive Datasets (3rd edition)</i>, Jure Leskovec, Anand Rajarman, and Jeff Ullman. Slides + resources: <a href=\"http://www.mmds.org\">http://www.mmds.org</a>; Book: <a href=\"http://i.stanford.edu/~ullman/mmds/book0n.pdf\">http://i.stanford.edu/~ullman/mmds/book0n.pdf</a>.\n",
      "<li> DMCT: <i>Data Mining Concepts and Techniques (3rd edition)</i>, by Jiawei Han, Micheline Kamber, and Jian Pei. Slides + resources: <a href=\"https://hanj.cs.illinois.edu/bk3/\">https://hanj.cs.illinois.edu/bk3/</a>. Book: <a href=\"https://learning.oreilly.com/library/view/data-mining-concepts/9780123814791/\">https://learning.oreilly.com/library/view/data-mining-concepts/9780123814791/ (requires TAMU)</a>\n",
      "<li> DMTT: <i>Data Mining, The Textbook</i>, by Charu Aggarwal. Resources: <a href=\"http://www.charuaggarwal.net/Data-Mining.htm\">http://www.charuaggarwal.net/Data-Mining.htm</a>\n",
      "</ul>\n",
      "\n",
      "<hr>\n",
      "<H3><A NAME = \"grading\">Grading</a></H3> \n",
      "<p> The grading scale is A: 90-100, B: 80-89, C: 70-79, D: 60-69, F: 0-59. The course grading policy is as follows: \n",
      "\n",
      "<p><b>Participation (5%)</b>. Attendance in class and participation in the discussion are both important to your success in the course. We expect you to participate in online discussions on <a href=\"https://piazza.com/tamu/fall2019/csce676\">Piazza</a>. Over the course of the semester, you should post at least <b>one</b> substantive, interesting post to the discussion forum. You must also participate in at least <b>three</b> threads on Piazza. Towards your participation grade, the final day to post to the discussion group is November 27. (Of course you are welcome to continue to post afterwards, but these posts will not count toward your participation grade.)\n",
      "\n",
      "\n",
      "<p>\n",
      "<b>Quiz (10%)</b>. We will have one quizzes during a regular class period, worth 10%. The quiz is closed book, but you may bring <b>one</b> standard 8.5\" by 11\" piece of paper with anything you deem appropriate or significant (front and back). No devices allowed.</i>\n",
      "\n",
      "<p>\n",
      "<b>Final Exam (30%)</b>. We will have a comprehensive two-hour final exam on Monday, December 9, from 8am to 10am. For the final, you may bring <b>two</b> standard 8.5\" by 11\" pieces of paper with anything you deem appropriate or significant (front and back). No devices allowed.</i>\n",
      "\n",
      "<p>\n",
      "<b>Homework (25%)</b>. We will have several homework assignments. These will be a mix of programming assignments and problem sets. Programming assignments will be in Python; we make no expectations that you have been exposed to Python before, but we do expect you to come up to speed rapidly.\n",
      "\n",
      "<p>All homework assignments must be submitted by 11:59pm Central time on the due date. For the homework assignments, you may talk to any other class member or work in groups to discuss the problems <b>in a general way</b>. However, your actual detailed solution must be yours alone. If you do talk to other students, you must write on your assignment who it is that you discussed the problems with. Your submitted work must be written solely by you and not contain work directly copied from others.\n",
      "\n",
      "<p><i>Homework Collaboration Clarification</i>: To clarify, your homework is yours alone and you are expected to complete each homework independently. Your solution should be written by you without the direct aid or help of anyone else. However, we believe that \tcollaboration and team work are important for facilitating learning, so we encourage you \tto discuss problems and general problem approaches (but not actual solutions) with your \tclassmates. If you do have a chat with another student about a homework problem, you \tmust inform us by writing a note on your homework submission (e.g., Bob pointed me to \tthe relevant section for problem 3). The basic rule is that no student should explicitly share a solution with another student (and thereby circumvent the basic learning process), but it is okay to share general approaches, directions, and so on. If you feel like you have an issue that needs clarification, feel free to contact either me or the TA.\n",
      "\n",
      "<p><i>Homework Plagiarism Policy</i>: We will use the <a href=\"http://theory.stanford.edu/~aiken/moss/\">Stanford Moss</a> system to check homework submissions for plagiarism. Students found to have engaged in plagiarism will be punished severely, typically earning an automatic F in the course and being reported to the Aggie Honor System.\n",
      "\n",
      "<p><i>Homework Late Days</i>: For the homework assignments, you have a total of <b>5 late days</b> that you can use during the semester. However, a single assignment can be submitted <b>up to 3 days late</b> only, so we can post solutions in a timely fashion. \n",
      "For the purposes of the class, a late day is an indivisible 24-hour unit. Once you exhaust your 5 late days, we will not accept any late submissions. \n",
      "\n",
      "\n",
      "<p><b>Project (30%)</b>. For the project, you will work in teams of three or four on a problem related to <b>data mining for social good</b>.\n",
      "\n",
      "<hr>\n",
      "\n",
      "<p><b>Regrade Policy</b>: If you feel that we have made an error in grading, you may resubmit the assignment for a regrade within 7 days of receiving your graded assignment. You must include a brief written statement describing what portion has been graded in error. Note that we reserve the right to examine the entire assignment, so there is a chance we may find errors in your assignment that we missed before.\n",
      "\n",
      "<hr>\n",
      "\n",
      "\n",
      "<H3><A NAME = \"ada\">Americans with Disabilities Act (ADA) Policy\n",
      "Statement</a></H3> The Americans with Disabilities Act (ADA) is a federal anti-discrimination statute that provides comprehensive civil rights protection for persons with disabilities. Among other things, this legislation requires that all students with disabilities be guaranteed a learning environment that provides for reasonable accommodation of their disabilities. If you believe you have a disability requiring an accommodation, please contact Disability Services, currently located in the Disability Services building at the Student Services at White Creek complex on west campus or call 979-845-1637. For additional information, visit <a href=\"http://disability.tamu.edu\">http://disability.tamu.edu</a>.\n",
      "\n",
      "<H3><A NAME = \"honor\">Academic Integrity Statements</a></H3>\n"
     ]
    },
    {
     "name": "stdout",
     "output_type": "stream",
     "text": [
      "\n",
      "AGGIE HONOR CODE:  ''An Aggie does not lie, cheat, or steal or tolerate\n",
      "those who do.'' Upon accepting admission to Texas A&M University, a\n",
      "student immediately assumes a commitment to uphold the Honor Code, to\n",
      "accept responsibility for learning, and to follow the philosophy and\n",
      "rules of the Honor System. Students will be required to state their\n",
      "commitment on examinations, research papers, and other academic work.\n",
      "Ignorance of the rules does not exclude any member of the TAMU community\n",
      "from the requirements or the processes of the Honor System. For\n",
      "additional information please visit: <a\n",
      "href=\"http://aggiehonor.tamu.edu\">http://aggiehonor.tamu.edu</a>\n",
      "\n",
      "\n",
      "<P> <BR> <BR>\n"
     ]
    }
   ],
   "source": [
    "import urllib3  # the lib that handles the url stuff\n",
    "\n",
    "url = \"http://courses.cse.tamu.edu/caverlee/csce676/\"\n",
    "http = urllib3.PoolManager()\n",
    "\n",
    "file = http.request('GET', url)\n",
    "for word in file.data.decode('utf-8'):\n",
    "    print(word, end='')"
   ]
  },
  {
   "cell_type": "markdown",
   "metadata": {},
   "source": [
    "## Counting Word Frequency\n",
    "\n",
    "One of the most fundamental tasks in information retrieval is to count the frequency of each word in a document.\n",
    "\n",
    "In the following example, we start with a string and split it into a list. We then create an (initially empty) list called *wordfreq*, go through each word in the *wordlist*, and count the number of times that word appears in the whole list. We then add each word’s count to our wordfreq list. Using the *zip* operation, we are able to match the first word of the word list with the first number in the frequency list, the second word and second frequency, and so on. We end up with a list of word and frequency pairs. The *str* function converts any object to a string so that it can be printed."
   ]
  },
  {
   "cell_type": "code",
   "execution_count": 22,
   "metadata": {},
   "outputs": [
    {
     "name": "stdout",
     "output_type": "stream",
     "text": [
      "String\n",
      "it was the best of times it was the worst of times it was the age of wisdom it was the age of foolishness\n",
      "\n",
      "List\n",
      "['it', 'was', 'the', 'best', 'of', 'times', 'it', 'was', 'the', 'worst', 'of', 'times', 'it', 'was', 'the', 'age', 'of', 'wisdom', 'it', 'was', 'the', 'age', 'of', 'foolishness']\n",
      "\n",
      "Frequencies\n",
      "[4, 4, 4, 1, 4, 2, 4, 4, 4, 1, 4, 2, 4, 4, 4, 2, 4, 1, 4, 4, 4, 2, 4, 1]\n",
      "\n",
      "Pairs\n",
      "{'it': 4, 'was': 4, 'the': 4, 'best': 1, 'of': 4, 'times': 2, 'worst': 1, 'age': 2, 'wisdom': 1, 'foolishness': 1}\n"
     ]
    }
   ],
   "source": [
    "wordstring = 'it was the best of times it was the worst of times '\n",
    "wordstring += 'it was the age of wisdom it was the age of foolishness'\n",
    "\n",
    "wordlist = wordstring.split()\n",
    "\n",
    "wordfreq = []\n",
    "for w in wordlist:\n",
    "    wordfreq.append(wordlist.count(w))\n",
    "\n",
    "print(\"String\\n\" + wordstring +\"\\n\")\n",
    "print(\"List\\n\" + str(wordlist) + \"\\n\")\n",
    "print(\"Frequencies\\n\" + str(wordfreq) + \"\\n\")\n",
    "print(\"Pairs\\n\" + str(dict(zip(wordlist, wordfreq))))"
   ]
  },
  {
   "cell_type": "markdown",
   "metadata": {},
   "source": [
    "Now, your job is to open up the url we mentioned a few cells above. Then output the word-frequency pairs in that url, sorted in order of descending frequency. In the case of ours Dickens example here, the output would look something like: [('of', 4), ('it', 4), ('the', 4), ('was', 4), ('age', 2), ('times', 2), ('foolishness', 1), ('worst', 1), ('wisdom', 1), ('best', 1)].\n",
    "\n",
    "Your job is to output a the word-frequency pairs for the url."
   ]
  },
  {
   "cell_type": "code",
   "execution_count": 23,
   "metadata": {},
   "outputs": [
    {
     "name": "stdout",
     "output_type": "stream",
     "text": [
      " html head TITLE CSCE 676 Data Mining and Analysis Fall 2019 TITLE head body bgcolor white text black link blue vlink blue alink blue h1 CSCE 676 Data Mining and Analysis Fall 2019 h1 dt MWF 9 10 10 00am in HRBB 113 dt br dt Instructor a href http faculty cse tamu edu caverlee James Caverlee a HRBB 425H dt Office Hours 10 11am Monday and 3 4pm Wednesday dt Department of a href http www cse tamu edu Computer Science and Engineering a dt a href http www tamu edu Texas A amp M University a dt br dt TA a href http people tamu edu zhuziwei Ziwei Zhu a dt Office Hours 3 4pm on Tuesday and Thursday in HRBB 408A dt p a href schedule html Course Schedule a a href project html Project a hr H3 A NAME summary Course Summary a H3 P P This course is a broad overview of data mining integrating related concepts from machine learning and statistics exploratory data analysis pattern mining clustering and classification applications to scientific and online data By the end of the semester you will be able to ul li Define and explain the key concepts and models relevant to data mining and analysis including data preparation normalization dimensionality reduction text mining data visualization and so on li Design implement and evaluate data mining algorithms like associate rules clustering anomaly detection and do so on modern scalable cloud computing platforms e g Spark li Identify the salient features and apply recent research results in data mining including topics such as fairness graph mining and large scale mining ul hr H3 A NAME comm Communication a H3 P All course communication will be via a href https piazza com tamu fall2019 csce676 Piazza a We will post often to Piazza so you should plan to check it often every day hr H3 A NAME prereq Prerequisites a H3 P I expect all students to have had some previous exposure to basic probability statistics algorithms and data structures You should be able to design and develop large programs and learn new software libraries on your own hr H3 A NAME textbooks Textbooks a H3 P We will read some selections from ul li MMDS i Mining of Massive Datasets 3rd edition i Jure Leskovec Anand Rajarman and Jeff Ullman Slides resources a href http www mmds org http www mmds org a Book a href http i stanford edu ullman mmds book0n pdf http i stanford edu ullman mmds book0n pdf a li DMCT i Data Mining Concepts and Techniques 3rd edition i by Jiawei Han Micheline Kamber and Jian Pei Slides resources a href https hanj cs illinois edu bk3 https hanj cs illinois edu bk3 a Book a href https learning oreilly com library view data mining concepts 9780123814791 https learning oreilly com library view data mining concepts 9780123814791 requires TAMU a li DMTT i Data Mining The Textbook i by Charu Aggarwal Resources a href http www charuaggarwal net Data Mining htm http www charuaggarwal net Data Mining htm a ul hr H3 A NAME grading Grading a H3 p The grading scale is A 90 100 B 80 89 C 70 79 D 60 69 F 0 59 The course grading policy is as follows p b Participation 5 b Attendance in class and participation in the discussion are both important to your success in the course We expect you to participate in online discussions on a href https piazza com tamu fall2019 csce676 Piazza a Over the course of the semester you should post at least b one b substantive interesting post to the discussion forum You must also participate in at least b three b threads on Piazza Towards your participation grade the final day to post to the discussion group is November 27 Of course you are welcome to continue to post afterwards but these posts will not count toward your participation grade p b Quiz 10 b We will have one quizzes during a regular class period worth 10 The quiz is closed book but you may bring b one b standard 8 5 by 11 piece of paper with anything you deem appropriate or significant front and back No devices allowed i p b Final Exam 30 b We will have a comprehensive two hour final exam on Monday December 9 from 8am to 10am For the final you may bring b two b standard 8 5 by 11 pieces of paper with anything you deem appropriate or significant front and back No devices allowed i p b Homework 25 b We will have several homework assignments These will be a mix of programming assignments and problem sets Programming assignments will be in Python we make no expectations that you have been exposed to Python before but we do expect you to come up to speed rapidly p All homework assignments must be submitted by 11 59pm Central time on the due date For the homework assignments you may talk to any other class member or work in groups to discuss the problems b in a general way b However your actual detailed solution must be yours alone If you do talk to other students you must write on your assignment who it is that you discussed the problems with Your submitted work must be written solely by you and not contain work directly copied from others p i Homework Collaboration Clarification i To clarify your homework is yours alone and you are expected to complete each homework independently Your solution should be written by you without the direct aid or help of anyone else However we believe that collaboration and team work are important for facilitating learning so we encourage you to discuss problems and general problem approaches but not actual solutions with your classmates If you do have a chat with another student about a homework problem you must inform us by writing a note on your homework submission e g Bob pointed me to the relevant section for problem 3 The basic rule is that no student should explicitly share a solution with another student and thereby circumvent the basic learning process but it is okay to share general approaches directions and so on If you feel like you have an issue that needs clarification feel free to contact either me or the TA p i Homework Plagiarism Policy i We will use the a href http theory stanford edu aiken moss Stanford Moss a system to check homework submissions for plagiarism Students found to have engaged in plagiarism will be punished severely typically earning an automatic F in the course and being reported to the Aggie Honor System p i Homework Late Days i For the homework assignments you have a total of b 5 late days b that you can use during the semester However a single assignment can be submitted b up to 3 days late b only so we can post solutions in a timely fashion For the purposes of the class a late day is an indivisible 24 hour unit Once you exhaust your 5 late days we will not accept any late submissions p b Project 30 b For the project you will work in teams of three or four on a problem related to b data mining for social good b hr p b Regrade Policy b If you feel that we have made an error in grading you may resubmit the assignment for a regrade within 7 days of receiving your graded assignment You must include a brief written statement describing what portion has been graded in error Note that we reserve the right to examine the entire assignment so there is a chance we may find errors in your assignment that we missed before hr H3 A NAME ada Americans with Disabilities Act ADA Policy Statement a H3 The Americans with Disabilities Act ADA is a federal anti discrimination statute that provides comprehensive civil rights protection for persons with disabilities Among other things this legislation requires that all students with disabilities be guaranteed a learning environment that provides for reasonable accommodation of their disabilities If you believe you have a disability requiring an accommodation please contact Disability Services currently located in the Disability Services building at the Student Services at White Creek complex on west campus or call 979 845 1637 For additional information visit a href http disability tamu edu http disability tamu edu a H3 A NAME honor Academic Integrity Statements a H3 AGGIE HONOR CODE An Aggie does not lie cheat or steal or tolerate those who do Upon accepting admission to Texas A M University a student immediately assumes a commitment to uphold the Honor Code to accept responsibility for learning and to follow the philosophy and rules of the Honor System Students will be required to state their commitment on examinations research papers and other academic work Ignorance of the rules does not exclude any member of the TAMU community from the requirements or the processes of the Honor System For additional information please visit a href http aggiehonor tamu edu http aggiehonor tamu edu a P BR BR \n"
     ]
    }
   ],
   "source": [
    "import re\n",
    "\n",
    "content = file.data.decode('utf-8')\n",
    "content = re.sub('[^0-9a-zA-Z]+', ' ', content)\n",
    "print(content)"
   ]
  },
  {
   "cell_type": "code",
   "execution_count": 24,
   "metadata": {},
   "outputs": [
    {
     "name": "stdout",
     "output_type": "stream",
     "text": [
      "Words:\n",
      " ['html', 'head', 'TITLE', 'CSCE', '676', 'Data', 'Mining', 'and', 'Analysis', 'Fall', '2019', 'TITLE', 'head', 'body', 'bgcolor', 'white', 'text', 'black', 'link', 'blue', 'vlink', 'blue', 'alink', 'blue', 'h1', 'CSCE', '676', 'Data', 'Mining', 'and', 'Analysis', 'Fall', '2019', 'h1', 'dt', 'MWF', '9', '10', '10', '00am', 'in', 'HRBB', '113', 'dt', 'br', 'dt', 'Instructor', 'a', 'href', 'http', 'faculty', 'cse', 'tamu', 'edu', 'caverlee', 'James', 'Caverlee', 'a', 'HRBB', '425H', 'dt', 'Office', 'Hours', '10', '11am', 'Monday', 'and', '3', '4pm', 'Wednesday', 'dt', 'Department', 'of', 'a', 'href', 'http', 'www', 'cse', 'tamu', 'edu', 'Computer', 'Science', 'and', 'Engineering', 'a', 'dt', 'a', 'href', 'http', 'www', 'tamu', 'edu', 'Texas', 'A', 'amp', 'M', 'University', 'a', 'dt', 'br', 'dt', 'TA', 'a', 'href', 'http', 'people', 'tamu', 'edu', 'zhuziwei', 'Ziwei', 'Zhu', 'a', 'dt', 'Office', 'Hours', '3', '4pm', 'on', 'Tuesday', 'and', 'Thursday', 'in', 'HRBB', '408A', 'dt', 'p', 'a', 'href', 'schedule', 'html', 'Course', 'Schedule', 'a', 'a', 'href', 'project', 'html', 'Project', 'a', 'hr', 'H3', 'A', 'NAME', 'summary', 'Course', 'Summary', 'a', 'H3', 'P', 'P', 'This', 'course', 'is', 'a', 'broad', 'overview', 'of', 'data', 'mining', 'integrating', 'related', 'concepts', 'from', 'machine', 'learning', 'and', 'statistics', 'exploratory', 'data', 'analysis', 'pattern', 'mining', 'clustering', 'and', 'classification', 'applications', 'to', 'scientific', 'and', 'online', 'data', 'By', 'the', 'end', 'of', 'the', 'semester', 'you', 'will', 'be', 'able', 'to', 'ul', 'li', 'Define', 'and', 'explain', 'the', 'key', 'concepts', 'and', 'models', 'relevant', 'to', 'data', 'mining', 'and', 'analysis', 'including', 'data', 'preparation', 'normalization', 'dimensionality', 'reduction', 'text', 'mining', 'data', 'visualization', 'and', 'so', 'on', 'li', 'Design', 'implement', 'and', 'evaluate', 'data', 'mining', 'algorithms', 'like', 'associate', 'rules', 'clustering', 'anomaly', 'detection', 'and', 'do', 'so', 'on', 'modern', 'scalable', 'cloud', 'computing', 'platforms', 'e', 'g', 'Spark', 'li', 'Identify', 'the', 'salient', 'features', 'and', 'apply', 'recent', 'research', 'results', 'in', 'data', 'mining', 'including', 'topics', 'such', 'as', 'fairness', 'graph', 'mining', 'and', 'large', 'scale', 'mining', 'ul', 'hr', 'H3', 'A', 'NAME', 'comm', 'Communication', 'a', 'H3', 'P', 'All', 'course', 'communication', 'will', 'be', 'via', 'a', 'href', 'https', 'piazza', 'com', 'tamu', 'fall2019', 'csce676', 'Piazza', 'a', 'We', 'will', 'post', 'often', 'to', 'Piazza', 'so', 'you', 'should', 'plan', 'to', 'check', 'it', 'often', 'every', 'day', 'hr', 'H3', 'A', 'NAME', 'prereq', 'Prerequisites', 'a', 'H3', 'P', 'I', 'expect', 'all', 'students', 'to', 'have', 'had', 'some', 'previous', 'exposure', 'to', 'basic', 'probability', 'statistics', 'algorithms', 'and', 'data', 'structures', 'You', 'should', 'be', 'able', 'to', 'design', 'and', 'develop', 'large', 'programs', 'and', 'learn', 'new', 'software', 'libraries', 'on', 'your', 'own', 'hr', 'H3', 'A', 'NAME', 'textbooks', 'Textbooks', 'a', 'H3', 'P', 'We', 'will', 'read', 'some', 'selections', 'from', 'ul', 'li', 'MMDS', 'i', 'Mining', 'of', 'Massive', 'Datasets', '3rd', 'edition', 'i', 'Jure', 'Leskovec', 'Anand', 'Rajarman', 'and', 'Jeff', 'Ullman', 'Slides', 'resources', 'a', 'href', 'http', 'www', 'mmds', 'org', 'http', 'www', 'mmds', 'org', 'a', 'Book', 'a', 'href', 'http', 'i', 'stanford', 'edu', 'ullman', 'mmds', 'book0n', 'pdf', 'http', 'i', 'stanford', 'edu', 'ullman', 'mmds', 'book0n', 'pdf', 'a', 'li', 'DMCT', 'i', 'Data', 'Mining', 'Concepts', 'and', 'Techniques', '3rd', 'edition', 'i', 'by', 'Jiawei', 'Han', 'Micheline', 'Kamber', 'and', 'Jian', 'Pei', 'Slides', 'resources', 'a', 'href', 'https', 'hanj', 'cs', 'illinois', 'edu', 'bk3', 'https', 'hanj', 'cs', 'illinois', 'edu', 'bk3', 'a', 'Book', 'a', 'href', 'https', 'learning', 'oreilly', 'com', 'library', 'view', 'data', 'mining', 'concepts', '9780123814791', 'https', 'learning', 'oreilly', 'com', 'library', 'view', 'data', 'mining', 'concepts', '9780123814791', 'requires', 'TAMU', 'a', 'li', 'DMTT', 'i', 'Data', 'Mining', 'The', 'Textbook', 'i', 'by', 'Charu', 'Aggarwal', 'Resources', 'a', 'href', 'http', 'www', 'charuaggarwal', 'net', 'Data', 'Mining', 'htm', 'http', 'www', 'charuaggarwal', 'net', 'Data', 'Mining', 'htm', 'a', 'ul', 'hr', 'H3', 'A', 'NAME', 'grading', 'Grading', 'a', 'H3', 'p', 'The', 'grading', 'scale', 'is', 'A', '90', '100', 'B', '80', '89', 'C', '70', '79', 'D', '60', '69', 'F', '0', '59', 'The', 'course', 'grading', 'policy', 'is', 'as', 'follows', 'p', 'b', 'Participation', '5', 'b', 'Attendance', 'in', 'class', 'and', 'participation', 'in', 'the', 'discussion', 'are', 'both', 'important', 'to', 'your', 'success', 'in', 'the', 'course', 'We', 'expect', 'you', 'to', 'participate', 'in', 'online', 'discussions', 'on', 'a', 'href', 'https', 'piazza', 'com', 'tamu', 'fall2019', 'csce676', 'Piazza', 'a', 'Over', 'the', 'course', 'of', 'the', 'semester', 'you', 'should', 'post', 'at', 'least', 'b', 'one', 'b', 'substantive', 'interesting', 'post', 'to', 'the', 'discussion', 'forum', 'You', 'must', 'also', 'participate', 'in', 'at', 'least', 'b', 'three', 'b', 'threads', 'on', 'Piazza', 'Towards', 'your', 'participation', 'grade', 'the', 'final', 'day', 'to', 'post', 'to', 'the', 'discussion', 'group', 'is', 'November', '27', 'Of', 'course', 'you', 'are', 'welcome', 'to', 'continue', 'to', 'post', 'afterwards', 'but', 'these', 'posts', 'will', 'not', 'count', 'toward', 'your', 'participation', 'grade', 'p', 'b', 'Quiz', '10', 'b', 'We', 'will', 'have', 'one', 'quizzes', 'during', 'a', 'regular', 'class', 'period', 'worth', '10', 'The', 'quiz', 'is', 'closed', 'book', 'but', 'you', 'may', 'bring', 'b', 'one', 'b', 'standard', '8', '5', 'by', '11', 'piece', 'of', 'paper', 'with', 'anything', 'you', 'deem', 'appropriate', 'or', 'significant', 'front', 'and', 'back', 'No', 'devices', 'allowed', 'i', 'p', 'b', 'Final', 'Exam', '30', 'b', 'We', 'will', 'have', 'a', 'comprehensive', 'two', 'hour', 'final', 'exam', 'on', 'Monday', 'December', '9', 'from', '8am', 'to', '10am', 'For', 'the', 'final', 'you', 'may', 'bring', 'b', 'two', 'b', 'standard', '8', '5', 'by', '11', 'pieces', 'of', 'paper', 'with', 'anything', 'you', 'deem', 'appropriate', 'or', 'significant', 'front', 'and', 'back', 'No', 'devices', 'allowed', 'i', 'p', 'b', 'Homework', '25', 'b', 'We', 'will', 'have', 'several', 'homework', 'assignments', 'These', 'will', 'be', 'a', 'mix', 'of', 'programming', 'assignments', 'and', 'problem', 'sets', 'Programming', 'assignments', 'will', 'be', 'in', 'Python', 'we', 'make', 'no', 'expectations', 'that', 'you', 'have', 'been', 'exposed', 'to', 'Python', 'before', 'but', 'we', 'do', 'expect', 'you', 'to', 'come', 'up', 'to', 'speed', 'rapidly', 'p', 'All', 'homework', 'assignments', 'must', 'be', 'submitted', 'by', '11', '59pm', 'Central', 'time', 'on', 'the', 'due', 'date', 'For', 'the', 'homework', 'assignments', 'you', 'may', 'talk', 'to', 'any', 'other', 'class', 'member', 'or', 'work', 'in', 'groups', 'to', 'discuss', 'the', 'problems', 'b', 'in', 'a', 'general', 'way', 'b', 'However', 'your', 'actual', 'detailed', 'solution', 'must', 'be', 'yours', 'alone', 'If', 'you', 'do', 'talk', 'to', 'other', 'students', 'you', 'must', 'write', 'on', 'your', 'assignment', 'who', 'it', 'is', 'that', 'you', 'discussed', 'the', 'problems', 'with', 'Your', 'submitted', 'work', 'must', 'be', 'written', 'solely', 'by', 'you', 'and', 'not', 'contain', 'work', 'directly', 'copied', 'from', 'others', 'p', 'i', 'Homework', 'Collaboration', 'Clarification', 'i', 'To', 'clarify', 'your', 'homework', 'is', 'yours', 'alone', 'and', 'you', 'are', 'expected', 'to', 'complete', 'each', 'homework', 'independently', 'Your', 'solution', 'should', 'be', 'written', 'by', 'you', 'without', 'the', 'direct', 'aid', 'or', 'help', 'of', 'anyone', 'else', 'However', 'we', 'believe', 'that', 'collaboration', 'and', 'team', 'work', 'are', 'important', 'for', 'facilitating', 'learning', 'so', 'we', 'encourage', 'you', 'to', 'discuss', 'problems', 'and', 'general', 'problem', 'approaches', 'but', 'not', 'actual', 'solutions', 'with', 'your', 'classmates', 'If', 'you', 'do', 'have', 'a', 'chat', 'with', 'another', 'student', 'about', 'a', 'homework', 'problem', 'you', 'must', 'inform', 'us', 'by', 'writing', 'a', 'note', 'on', 'your', 'homework', 'submission', 'e', 'g', 'Bob', 'pointed', 'me', 'to', 'the', 'relevant', 'section', 'for', 'problem', '3', 'The', 'basic', 'rule', 'is', 'that', 'no', 'student', 'should', 'explicitly', 'share', 'a', 'solution', 'with', 'another', 'student', 'and', 'thereby', 'circumvent', 'the', 'basic', 'learning', 'process', 'but', 'it', 'is', 'okay', 'to', 'share', 'general', 'approaches', 'directions', 'and', 'so', 'on', 'If', 'you', 'feel', 'like', 'you', 'have', 'an', 'issue', 'that', 'needs', 'clarification', 'feel', 'free', 'to', 'contact', 'either', 'me', 'or', 'the', 'TA', 'p', 'i', 'Homework', 'Plagiarism', 'Policy', 'i', 'We', 'will', 'use', 'the', 'a', 'href', 'http', 'theory', 'stanford', 'edu', 'aiken', 'moss', 'Stanford', 'Moss', 'a', 'system', 'to', 'check', 'homework', 'submissions', 'for', 'plagiarism', 'Students', 'found', 'to', 'have', 'engaged', 'in', 'plagiarism', 'will', 'be', 'punished', 'severely', 'typically', 'earning', 'an', 'automatic', 'F', 'in', 'the', 'course', 'and', 'being', 'reported', 'to', 'the', 'Aggie', 'Honor', 'System', 'p', 'i', 'Homework', 'Late', 'Days', 'i', 'For', 'the', 'homework', 'assignments', 'you', 'have', 'a', 'total', 'of', 'b', '5', 'late', 'days', 'b', 'that', 'you', 'can', 'use', 'during', 'the', 'semester', 'However', 'a', 'single', 'assignment', 'can', 'be', 'submitted', 'b', 'up', 'to', '3', 'days', 'late', 'b', 'only', 'so', 'we', 'can', 'post', 'solutions', 'in', 'a', 'timely', 'fashion', 'For', 'the', 'purposes', 'of', 'the', 'class', 'a', 'late', 'day', 'is', 'an', 'indivisible', '24', 'hour', 'unit', 'Once', 'you', 'exhaust', 'your', '5', 'late', 'days', 'we', 'will', 'not', 'accept', 'any', 'late', 'submissions', 'p', 'b', 'Project', '30', 'b', 'For', 'the', 'project', 'you', 'will', 'work', 'in', 'teams', 'of', 'three', 'or', 'four', 'on', 'a', 'problem', 'related', 'to', 'b', 'data', 'mining', 'for', 'social', 'good', 'b', 'hr', 'p', 'b', 'Regrade', 'Policy', 'b', 'If', 'you', 'feel', 'that', 'we', 'have', 'made', 'an', 'error', 'in', 'grading', 'you', 'may', 'resubmit', 'the', 'assignment', 'for', 'a', 'regrade', 'within', '7', 'days', 'of', 'receiving', 'your', 'graded', 'assignment', 'You', 'must', 'include', 'a', 'brief', 'written', 'statement', 'describing', 'what', 'portion', 'has', 'been', 'graded', 'in', 'error', 'Note', 'that', 'we', 'reserve', 'the', 'right', 'to', 'examine', 'the', 'entire', 'assignment', 'so', 'there', 'is', 'a', 'chance', 'we', 'may', 'find', 'errors', 'in', 'your', 'assignment', 'that', 'we', 'missed', 'before', 'hr', 'H3', 'A', 'NAME', 'ada', 'Americans', 'with', 'Disabilities', 'Act', 'ADA', 'Policy', 'Statement', 'a', 'H3', 'The', 'Americans', 'with', 'Disabilities', 'Act', 'ADA', 'is', 'a', 'federal', 'anti', 'discrimination', 'statute', 'that', 'provides', 'comprehensive', 'civil', 'rights', 'protection', 'for', 'persons', 'with', 'disabilities', 'Among', 'other', 'things', 'this', 'legislation', 'requires', 'that', 'all', 'students', 'with', 'disabilities', 'be', 'guaranteed', 'a', 'learning', 'environment', 'that', 'provides', 'for', 'reasonable', 'accommodation', 'of', 'their', 'disabilities', 'If', 'you', 'believe', 'you', 'have', 'a', 'disability', 'requiring', 'an', 'accommodation', 'please', 'contact', 'Disability', 'Services', 'currently', 'located', 'in', 'the', 'Disability', 'Services', 'building', 'at', 'the', 'Student', 'Services', 'at', 'White', 'Creek', 'complex', 'on', 'west', 'campus', 'or', 'call', '979', '845', '1637', 'For', 'additional', 'information', 'visit', 'a', 'href', 'http', 'disability', 'tamu', 'edu', 'http', 'disability', 'tamu', 'edu', 'a', 'H3', 'A', 'NAME', 'honor', 'Academic', 'Integrity', 'Statements', 'a', 'H3', 'AGGIE', 'HONOR', 'CODE', 'An', 'Aggie', 'does', 'not', 'lie', 'cheat', 'or', 'steal', 'or', 'tolerate', 'those', 'who', 'do', 'Upon', 'accepting', 'admission', 'to', 'Texas', 'A', 'M', 'University', 'a', 'student', 'immediately', 'assumes', 'a', 'commitment', 'to', 'uphold', 'the', 'Honor', 'Code', 'to', 'accept', 'responsibility', 'for', 'learning', 'and', 'to', 'follow', 'the', 'philosophy', 'and', 'rules', 'of', 'the', 'Honor', 'System', 'Students', 'will', 'be', 'required', 'to', 'state', 'their', 'commitment', 'on', 'examinations', 'research', 'papers', 'and', 'other', 'academic', 'work', 'Ignorance', 'of', 'the', 'rules', 'does', 'not', 'exclude', 'any', 'member', 'of', 'the', 'TAMU', 'community', 'from', 'the', 'requirements', 'or', 'the', 'processes', 'of', 'the', 'Honor', 'System', 'For', 'additional', 'information', 'please', 'visit', 'a', 'href', 'http', 'aggiehonor', 'tamu', 'edu', 'http', 'aggiehonor', 'tamu', 'edu', 'a', 'P', 'BR', 'BR']\n"
     ]
    }
   ],
   "source": [
    "words = content.split()\n",
    "frequencies = []\n",
    "for word in words:\n",
    "    frequencies.append(words.count(word))\n",
    "    \n",
    "print(\"Words:\\n\", words)"
   ]
  },
  {
   "cell_type": "code",
   "execution_count": 25,
   "metadata": {},
   "outputs": [
    {
     "name": "stdout",
     "output_type": "stream",
     "text": [
      "Occurrence:\n",
      " [('a', 61), ('the', 41), ('to', 38), ('and', 36), ('you', 31), ('b', 28), ('in', 19), ('of', 18), ('href', 16), ('i', 16), ('http', 15), ('will', 15), ('on', 14), ('H3', 14), ('edu', 13), ('be', 13), ('p', 12), ('is', 12), ('data', 12), ('your', 12), ('that', 12), ('mining', 11), ('have', 11), ('dt', 10), ('tamu', 10), ('A', 10), ('with', 10), ('or', 10), ('we', 10), ('homework', 9), ('by', 8), ('for', 8), ('Mining', 7), ('hr', 7), ('NAME', 7), ('course', 7), ('learning', 7), ('so', 7), ('We', 7), ('must', 7), ('For', 7), ('Data', 6), ('www', 6), ('P', 6), ('li', 6), ('https', 6), ('post', 6), ('The', 6), ('not', 6), ('assignments', 6), ('work', 6), ('assignment', 6), ('10', 5), ('from', 5), ('do', 5), ('should', 5), ('5', 5), ('but', 5), ('may', 5), ('problem', 5), ('If', 5), ('an', 5), ('late', 5), ('3', 4), ('concepts', 4), ('ul', 4), ('com', 4), ('Piazza', 4), ('mmds', 4), ('grading', 4), ('class', 4), ('are', 4), ('at', 4), ('Homework', 4), ('other', 4), ('student', 4), ('Honor', 4), ('days', 4), ('html', 3), ('blue', 3), ('HRBB', 3), ('semester', 3), ('rules', 3), ('it', 3), ('day', 3), ('expect', 3), ('students', 3), ('basic', 3), ('You', 3), ('stanford', 3), ('participation', 3), ('discussion', 3), ('one', 3), ('final', 3), ('11', 3), ('submitted', 3), ('any', 3), ('problems', 3), ('general', 3), ('However', 3), ('solution', 3), ('written', 3), ('feel', 3), ('Policy', 3), ('System', 3), ('can', 3), ('disabilities', 3), ('disability', 3), ('Services', 3), ('head', 2), ('TITLE', 2), ('CSCE', 2), ('676', 2), ('Analysis', 2), ('Fall', 2), ('2019', 2), ('text', 2), ('h1', 2), ('9', 2), ('br', 2), ('cse', 2), ('Office', 2), ('Hours', 2), ('Monday', 2), ('4pm', 2), ('Texas', 2), ('M', 2), ('University', 2), ('TA', 2), ('Course', 2), ('project', 2), ('Project', 2), ('related', 2), ('statistics', 2), ('analysis', 2), ('clustering', 2), ('online', 2), ('able', 2), ('relevant', 2), ('including', 2), ('algorithms', 2), ('like', 2), ('e', 2), ('g', 2), ('research', 2), ('as', 2), ('large', 2), ('scale', 2), ('All', 2), ('piazza', 2), ('fall2019', 2), ('csce676', 2), ('often', 2), ('check', 2), ('all', 2), ('some', 2), ('3rd', 2), ('edition', 2), ('Slides', 2), ('resources', 2), ('org', 2), ('Book', 2), ('ullman', 2), ('book0n', 2), ('pdf', 2), ('hanj', 2), ('cs', 2), ('illinois', 2), ('bk3', 2), ('oreilly', 2), ('library', 2), ('view', 2), ('9780123814791', 2), ('requires', 2), ('TAMU', 2), ('charuaggarwal', 2), ('net', 2), ('htm', 2), ('F', 2), ('important', 2), ('participate', 2), ('least', 2), ('three', 2), ('grade', 2), ('during', 2), ('bring', 2), ('standard', 2), ('8', 2), ('paper', 2), ('anything', 2), ('deem', 2), ('appropriate', 2), ('significant', 2), ('front', 2), ('back', 2), ('No', 2), ('devices', 2), ('allowed', 2), ('30', 2), ('comprehensive', 2), ('two', 2), ('hour', 2), ('Python', 2), ('no', 2), ('been', 2), ('before', 2), ('up', 2), ('talk', 2), ('member', 2), ('discuss', 2), ('actual', 2), ('yours', 2), ('alone', 2), ('who', 2), ('Your', 2), ('believe', 2), ('approaches', 2), ('solutions', 2), ('another', 2), ('me', 2), ('share', 2), ('contact', 2), ('use', 2), ('submissions', 2), ('plagiarism', 2), ('Students', 2), ('Aggie', 2), ('accept', 2), ('error', 2), ('graded', 2), ('Americans', 2), ('Disabilities', 2), ('Act', 2), ('ADA', 2), ('provides', 2), ('accommodation', 2), ('their', 2), ('please', 2), ('Disability', 2), ('additional', 2), ('information', 2), ('visit', 2), ('does', 2), ('commitment', 2), ('aggiehonor', 2), ('BR', 2), ('body', 1), ('bgcolor', 1), ('white', 1), ('black', 1), ('link', 1), ('vlink', 1), ('alink', 1), ('MWF', 1), ('00am', 1), ('113', 1), ('Instructor', 1), ('faculty', 1), ('caverlee', 1), ('James', 1), ('Caverlee', 1), ('425H', 1), ('11am', 1), ('Wednesday', 1), ('Department', 1), ('Computer', 1), ('Science', 1), ('Engineering', 1), ('amp', 1), ('people', 1), ('zhuziwei', 1), ('Ziwei', 1), ('Zhu', 1), ('Tuesday', 1), ('Thursday', 1), ('408A', 1), ('schedule', 1), ('Schedule', 1), ('summary', 1), ('Summary', 1), ('This', 1), ('broad', 1), ('overview', 1), ('integrating', 1), ('machine', 1), ('exploratory', 1), ('pattern', 1), ('classification', 1), ('applications', 1), ('scientific', 1), ('By', 1), ('end', 1), ('Define', 1), ('explain', 1), ('key', 1), ('models', 1), ('preparation', 1), ('normalization', 1), ('dimensionality', 1), ('reduction', 1), ('visualization', 1), ('Design', 1), ('implement', 1), ('evaluate', 1), ('associate', 1), ('anomaly', 1), ('detection', 1), ('modern', 1), ('scalable', 1), ('cloud', 1), ('computing', 1), ('platforms', 1), ('Spark', 1), ('Identify', 1), ('salient', 1), ('features', 1), ('apply', 1), ('recent', 1), ('results', 1), ('topics', 1), ('such', 1), ('fairness', 1), ('graph', 1), ('comm', 1), ('Communication', 1), ('communication', 1), ('via', 1), ('plan', 1), ('every', 1), ('prereq', 1), ('Prerequisites', 1), ('I', 1), ('had', 1), ('previous', 1), ('exposure', 1), ('probability', 1), ('structures', 1), ('design', 1), ('develop', 1), ('programs', 1), ('learn', 1), ('new', 1), ('software', 1), ('libraries', 1), ('own', 1), ('textbooks', 1), ('Textbooks', 1), ('read', 1), ('selections', 1), ('MMDS', 1), ('Massive', 1), ('Datasets', 1), ('Jure', 1), ('Leskovec', 1), ('Anand', 1), ('Rajarman', 1), ('Jeff', 1), ('Ullman', 1), ('DMCT', 1), ('Concepts', 1), ('Techniques', 1), ('Jiawei', 1), ('Han', 1), ('Micheline', 1), ('Kamber', 1), ('Jian', 1), ('Pei', 1), ('DMTT', 1), ('Textbook', 1), ('Charu', 1), ('Aggarwal', 1), ('Resources', 1), ('Grading', 1), ('90', 1), ('100', 1), ('B', 1), ('80', 1), ('89', 1), ('C', 1), ('70', 1), ('79', 1), ('D', 1), ('60', 1), ('69', 1), ('0', 1), ('59', 1), ('policy', 1), ('follows', 1), ('Participation', 1), ('Attendance', 1), ('both', 1), ('success', 1), ('discussions', 1), ('Over', 1), ('substantive', 1), ('interesting', 1), ('forum', 1), ('also', 1), ('threads', 1), ('Towards', 1), ('group', 1), ('November', 1), ('27', 1), ('Of', 1), ('welcome', 1), ('continue', 1), ('afterwards', 1), ('these', 1), ('posts', 1), ('count', 1), ('toward', 1), ('Quiz', 1), ('quizzes', 1), ('regular', 1), ('period', 1), ('worth', 1), ('quiz', 1), ('closed', 1), ('book', 1), ('piece', 1), ('Final', 1), ('Exam', 1), ('exam', 1), ('December', 1), ('8am', 1), ('10am', 1), ('pieces', 1), ('25', 1), ('several', 1), ('These', 1), ('mix', 1), ('programming', 1), ('sets', 1), ('Programming', 1), ('make', 1), ('expectations', 1), ('exposed', 1), ('come', 1), ('speed', 1), ('rapidly', 1), ('59pm', 1), ('Central', 1), ('time', 1), ('due', 1), ('date', 1), ('groups', 1), ('way', 1), ('detailed', 1), ('write', 1), ('discussed', 1), ('solely', 1), ('contain', 1), ('directly', 1), ('copied', 1), ('others', 1), ('Collaboration', 1), ('Clarification', 1), ('To', 1), ('clarify', 1), ('expected', 1), ('complete', 1), ('each', 1), ('independently', 1), ('without', 1), ('direct', 1), ('aid', 1), ('help', 1), ('anyone', 1), ('else', 1), ('collaboration', 1), ('team', 1), ('facilitating', 1), ('encourage', 1), ('classmates', 1), ('chat', 1), ('about', 1), ('inform', 1), ('us', 1), ('writing', 1), ('note', 1), ('submission', 1), ('Bob', 1), ('pointed', 1), ('section', 1), ('rule', 1), ('explicitly', 1), ('thereby', 1), ('circumvent', 1), ('process', 1), ('okay', 1), ('directions', 1), ('issue', 1), ('needs', 1), ('clarification', 1), ('free', 1), ('either', 1), ('Plagiarism', 1), ('theory', 1), ('aiken', 1), ('moss', 1), ('Stanford', 1), ('Moss', 1), ('system', 1), ('found', 1), ('engaged', 1), ('punished', 1), ('severely', 1), ('typically', 1), ('earning', 1), ('automatic', 1), ('being', 1), ('reported', 1), ('Late', 1), ('Days', 1), ('total', 1), ('single', 1), ('only', 1), ('timely', 1), ('fashion', 1), ('purposes', 1), ('indivisible', 1), ('24', 1), ('unit', 1), ('Once', 1), ('exhaust', 1), ('teams', 1), ('four', 1), ('social', 1), ('good', 1), ('Regrade', 1), ('made', 1), ('resubmit', 1), ('regrade', 1), ('within', 1), ('7', 1), ('receiving', 1), ('include', 1), ('brief', 1), ('statement', 1), ('describing', 1), ('what', 1), ('portion', 1), ('has', 1), ('Note', 1), ('reserve', 1), ('right', 1), ('examine', 1), ('entire', 1), ('there', 1), ('chance', 1), ('find', 1), ('errors', 1), ('missed', 1), ('ada', 1), ('Statement', 1), ('federal', 1), ('anti', 1), ('discrimination', 1), ('statute', 1), ('civil', 1), ('rights', 1), ('protection', 1), ('persons', 1), ('Among', 1), ('things', 1), ('this', 1), ('legislation', 1), ('guaranteed', 1), ('environment', 1), ('reasonable', 1), ('requiring', 1), ('currently', 1), ('located', 1), ('building', 1), ('Student', 1), ('White', 1), ('Creek', 1), ('complex', 1), ('west', 1), ('campus', 1), ('call', 1), ('979', 1), ('845', 1), ('1637', 1), ('honor', 1), ('Academic', 1), ('Integrity', 1), ('Statements', 1), ('AGGIE', 1), ('HONOR', 1), ('CODE', 1), ('An', 1), ('lie', 1), ('cheat', 1), ('steal', 1), ('tolerate', 1), ('those', 1), ('Upon', 1), ('accepting', 1), ('admission', 1), ('immediately', 1), ('assumes', 1), ('uphold', 1), ('Code', 1), ('responsibility', 1), ('follow', 1), ('philosophy', 1), ('required', 1), ('state', 1), ('examinations', 1), ('papers', 1), ('academic', 1), ('Ignorance', 1), ('exclude', 1), ('community', 1), ('requirements', 1), ('processes', 1)]\n"
     ]
    }
   ],
   "source": [
    "occurrence = dict(zip(words, frequencies))\n",
    "occurrence = sorted(occurrence.items(), key=lambda x : x[1], reverse=True)\n",
    "print(\"Occurrence:\\n\", occurrence)"
   ]
  },
  {
   "cell_type": "code",
   "execution_count": null,
   "metadata": {},
   "outputs": [],
   "source": []
  }
 ],
 "metadata": {
  "anaconda-cloud": {},
  "kernelspec": {
   "display_name": "Python 3",
   "language": "python",
   "name": "python3"
  },
  "language_info": {
   "codemirror_mode": {
    "name": "ipython",
    "version": 3
   },
   "file_extension": ".py",
   "mimetype": "text/x-python",
   "name": "python",
   "nbconvert_exporter": "python",
   "pygments_lexer": "ipython3",
   "version": "3.7.3"
  }
 },
 "nbformat": 4,
 "nbformat_minor": 1
}
